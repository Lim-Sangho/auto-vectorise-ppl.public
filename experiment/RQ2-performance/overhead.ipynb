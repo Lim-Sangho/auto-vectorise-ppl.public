{
 "cells": [
  {
   "cell_type": "markdown",
   "metadata": {},
   "source": [
    "### Overheads in funsor implementation\n",
    "It turns out there can be time/memory overheads when converting some Pyro objects to funsor objects."
   ]
  },
  {
   "cell_type": "code",
   "execution_count": 4,
   "metadata": {},
   "outputs": [
    {
     "name": "stdout",
     "output_type": "stream",
     "text": [
      "0.012957535743713378\n",
      "0.016504735946655275\n",
      "0.00217907190322876\n"
     ]
    }
   ],
   "source": [
    "import sys\n",
    "import pathlib\n",
    "\n",
    "path = pathlib.Path().resolve()\n",
    "parent = str(path.parent)\n",
    "grandparent = str(path.parent.parent)\n",
    "sys.path.append(parent)\n",
    "sys.path.append(grandparent)\n",
    "sys.dont_write_bytecode = True\n",
    "\n",
    "import torch\n",
    "import funsor\n",
    "import pyro.distributions as dist\n",
    "from pyro.contrib.funsor.handlers.primitives import to_funsor\n",
    "\n",
    "from util import time_it\n",
    "\n",
    "device = \"cuda\" if torch.cuda.is_available() else \"cpu\"\n",
    "torch.set_default_device(device)\n",
    "\n",
    "probs = torch.ones([16, 16, 1, 1, 1, 50, 127, 1, 16]) / 16\n",
    "D = dist.Categorical(probs=probs)\n",
    "\n",
    "# Takes non-negligible time to convert the distribution to a funsor\n",
    "with time_it() as t:\n",
    "    X = to_funsor(D, output=funsor.Real, dim_to_name={-8: \"prev\", -7: \"curr\", -3: \"sequences\", -2: \"lengths\"})(value=\"a\")\n",
    "print(t.time)\n",
    "\n",
    "# Takes non-negligible time to reduce the funsor\n",
    "with time_it() as t:\n",
    "    X.reduce(funsor.ops.logaddexp, \"a\")\n",
    "print(t.time)\n",
    "\n",
    "# Same reduce operation on a tensor, takes much less time\n",
    "with time_it() as t:\n",
    "    probs.logsumexp(-1, keepdim=True)\n",
    "print(t.time)"
   ]
  },
  {
   "cell_type": "code",
   "execution_count": 5,
   "metadata": {},
   "outputs": [
    {
     "name": "stdout",
     "output_type": "stream",
     "text": [
      "0\n",
      "9011200\n",
      "16002048\n"
     ]
    }
   ],
   "source": [
    "%reset -f\n",
    "import torch\n",
    "import funsor\n",
    "import pyro.distributions as dist\n",
    "from pyro.contrib.funsor.handlers.primitives import to_funsor\n",
    "\n",
    "torch.cuda.reset_peak_memory_stats()\n",
    "print(torch.cuda.max_memory_allocated())\n",
    "A = dist.Categorical(torch.ones(100, 100, 100))\n",
    "print(torch.cuda.max_memory_allocated())\n",
    "T = to_funsor(A, output=funsor.Real, dim_to_name={-1: \"a\", -2: \"b\"}) # Additional memory is required to convert a distribution to a funsor\n",
    "print(torch.cuda.max_memory_allocated())\n",
    "\n",
    "del A, T"
   ]
  }
 ],
 "metadata": {
  "kernelspec": {
   "display_name": "ppl",
   "language": "python",
   "name": "python3"
  },
  "language_info": {
   "codemirror_mode": {
    "name": "ipython",
    "version": 3
   },
   "file_extension": ".py",
   "mimetype": "text/x-python",
   "name": "python",
   "nbconvert_exporter": "python",
   "pygments_lexer": "ipython3",
   "version": "3.8.20"
  }
 },
 "nbformat": 4,
 "nbformat_minor": 2
}
