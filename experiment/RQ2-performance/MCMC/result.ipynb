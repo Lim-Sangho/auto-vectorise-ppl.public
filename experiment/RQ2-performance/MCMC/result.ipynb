{
 "cells": [
  {
   "cell_type": "code",
   "execution_count": 1,
   "id": "35425911",
   "metadata": {},
   "outputs": [
    {
     "name": "stdout",
     "output_type": "stream",
     "text": [
      "\r"
     ]
    },
    {
     "data": {
      "text/html": [
       "<div>\n",
       "<style scoped>\n",
       "    .dataframe tbody tr th:only-of-type {\n",
       "        vertical-align: middle;\n",
       "    }\n",
       "\n",
       "    .dataframe tbody tr th {\n",
       "        vertical-align: top;\n",
       "    }\n",
       "\n",
       "    .dataframe thead th {\n",
       "        text-align: right;\n",
       "    }\n",
       "</style>\n",
       "<table border=\"1\" class=\"dataframe\">\n",
       "  <thead>\n",
       "    <tr style=\"text-align: right;\">\n",
       "      <th></th>\n",
       "      <th>time</th>\n",
       "      <th>chain</th>\n",
       "      <th>memory</th>\n",
       "      <th>theta[0][0]</th>\n",
       "      <th>theta[0][1]</th>\n",
       "      <th>theta[0][2]</th>\n",
       "      <th>theta[0][3]</th>\n",
       "      <th>theta[0][4]</th>\n",
       "      <th>theta[0][5]</th>\n",
       "      <th>theta[0][6]</th>\n",
       "      <th>...</th>\n",
       "      <th>q_noise[199][0]</th>\n",
       "      <th>q_noise[199][1]</th>\n",
       "      <th>q_noise[199][2]</th>\n",
       "      <th>q_noise[199][3]</th>\n",
       "      <th>q_noise[199][4]</th>\n",
       "      <th>q_noise[199][5]</th>\n",
       "      <th>q_noise[199][6]</th>\n",
       "      <th>q_noise[199][7]</th>\n",
       "      <th>q_noise[199][8]</th>\n",
       "      <th>q_noise[199][9]</th>\n",
       "    </tr>\n",
       "  </thead>\n",
       "  <tbody>\n",
       "    <tr>\n",
       "      <th>0</th>\n",
       "      <td>0.378479</td>\n",
       "      <td>0</td>\n",
       "      <td>449024</td>\n",
       "      <td>19.074423</td>\n",
       "      <td>19.574392</td>\n",
       "      <td>17.353775</td>\n",
       "      <td>20.145325</td>\n",
       "      <td>19.879074</td>\n",
       "      <td>19.419796</td>\n",
       "      <td>19.376577</td>\n",
       "      <td>...</td>\n",
       "      <td>0.644945</td>\n",
       "      <td>0.601498</td>\n",
       "      <td>0.472842</td>\n",
       "      <td>0.515443</td>\n",
       "      <td>0.292436</td>\n",
       "      <td>0.531044</td>\n",
       "      <td>0.379930</td>\n",
       "      <td>0.363675</td>\n",
       "      <td>0.527291</td>\n",
       "      <td>0.364453</td>\n",
       "    </tr>\n",
       "    <tr>\n",
       "      <th>1</th>\n",
       "      <td>0.750350</td>\n",
       "      <td>0</td>\n",
       "      <td>465408</td>\n",
       "      <td>19.074423</td>\n",
       "      <td>19.574392</td>\n",
       "      <td>17.353775</td>\n",
       "      <td>20.145325</td>\n",
       "      <td>19.879074</td>\n",
       "      <td>19.419796</td>\n",
       "      <td>19.376577</td>\n",
       "      <td>...</td>\n",
       "      <td>0.644945</td>\n",
       "      <td>0.601498</td>\n",
       "      <td>0.472842</td>\n",
       "      <td>0.515443</td>\n",
       "      <td>0.292436</td>\n",
       "      <td>0.531044</td>\n",
       "      <td>0.379930</td>\n",
       "      <td>0.363675</td>\n",
       "      <td>0.527291</td>\n",
       "      <td>0.364453</td>\n",
       "    </tr>\n",
       "    <tr>\n",
       "      <th>2</th>\n",
       "      <td>1.119060</td>\n",
       "      <td>0</td>\n",
       "      <td>465408</td>\n",
       "      <td>19.074423</td>\n",
       "      <td>19.574392</td>\n",
       "      <td>17.353775</td>\n",
       "      <td>20.145325</td>\n",
       "      <td>19.879074</td>\n",
       "      <td>19.419796</td>\n",
       "      <td>19.376577</td>\n",
       "      <td>...</td>\n",
       "      <td>0.644945</td>\n",
       "      <td>0.601498</td>\n",
       "      <td>0.472842</td>\n",
       "      <td>0.515443</td>\n",
       "      <td>0.292436</td>\n",
       "      <td>0.531044</td>\n",
       "      <td>0.379930</td>\n",
       "      <td>0.363675</td>\n",
       "      <td>0.527291</td>\n",
       "      <td>0.364453</td>\n",
       "    </tr>\n",
       "    <tr>\n",
       "      <th>3</th>\n",
       "      <td>1.485285</td>\n",
       "      <td>0</td>\n",
       "      <td>465408</td>\n",
       "      <td>19.074423</td>\n",
       "      <td>19.574392</td>\n",
       "      <td>17.353775</td>\n",
       "      <td>20.145325</td>\n",
       "      <td>19.879074</td>\n",
       "      <td>19.419796</td>\n",
       "      <td>19.376577</td>\n",
       "      <td>...</td>\n",
       "      <td>0.644945</td>\n",
       "      <td>0.601498</td>\n",
       "      <td>0.472842</td>\n",
       "      <td>0.515443</td>\n",
       "      <td>0.292436</td>\n",
       "      <td>0.531044</td>\n",
       "      <td>0.379930</td>\n",
       "      <td>0.363675</td>\n",
       "      <td>0.527291</td>\n",
       "      <td>0.364453</td>\n",
       "    </tr>\n",
       "    <tr>\n",
       "      <th>4</th>\n",
       "      <td>1.858558</td>\n",
       "      <td>0</td>\n",
       "      <td>465408</td>\n",
       "      <td>19.073235</td>\n",
       "      <td>19.574764</td>\n",
       "      <td>17.353361</td>\n",
       "      <td>20.144772</td>\n",
       "      <td>19.880409</td>\n",
       "      <td>19.418795</td>\n",
       "      <td>19.377100</td>\n",
       "      <td>...</td>\n",
       "      <td>0.646301</td>\n",
       "      <td>0.600768</td>\n",
       "      <td>0.474074</td>\n",
       "      <td>0.515841</td>\n",
       "      <td>0.292443</td>\n",
       "      <td>0.531686</td>\n",
       "      <td>0.381371</td>\n",
       "      <td>0.363508</td>\n",
       "      <td>0.527675</td>\n",
       "      <td>0.365753</td>\n",
       "    </tr>\n",
       "    <tr>\n",
       "      <th>...</th>\n",
       "      <td>...</td>\n",
       "      <td>...</td>\n",
       "      <td>...</td>\n",
       "      <td>...</td>\n",
       "      <td>...</td>\n",
       "      <td>...</td>\n",
       "      <td>...</td>\n",
       "      <td>...</td>\n",
       "      <td>...</td>\n",
       "      <td>...</td>\n",
       "      <td>...</td>\n",
       "      <td>...</td>\n",
       "      <td>...</td>\n",
       "      <td>...</td>\n",
       "      <td>...</td>\n",
       "      <td>...</td>\n",
       "      <td>...</td>\n",
       "      <td>...</td>\n",
       "      <td>...</td>\n",
       "      <td>...</td>\n",
       "      <td>...</td>\n",
       "    </tr>\n",
       "    <tr>\n",
       "      <th>95</th>\n",
       "      <td>37.226100</td>\n",
       "      <td>0</td>\n",
       "      <td>465408</td>\n",
       "      <td>19.068283</td>\n",
       "      <td>19.580276</td>\n",
       "      <td>17.363647</td>\n",
       "      <td>20.145338</td>\n",
       "      <td>19.882481</td>\n",
       "      <td>19.421577</td>\n",
       "      <td>19.380457</td>\n",
       "      <td>...</td>\n",
       "      <td>0.642598</td>\n",
       "      <td>0.584750</td>\n",
       "      <td>0.487310</td>\n",
       "      <td>0.512448</td>\n",
       "      <td>0.277266</td>\n",
       "      <td>0.522654</td>\n",
       "      <td>0.384321</td>\n",
       "      <td>0.376855</td>\n",
       "      <td>0.527813</td>\n",
       "      <td>0.382376</td>\n",
       "    </tr>\n",
       "    <tr>\n",
       "      <th>96</th>\n",
       "      <td>37.630332</td>\n",
       "      <td>0</td>\n",
       "      <td>465408</td>\n",
       "      <td>19.068283</td>\n",
       "      <td>19.580276</td>\n",
       "      <td>17.363647</td>\n",
       "      <td>20.145338</td>\n",
       "      <td>19.882481</td>\n",
       "      <td>19.421577</td>\n",
       "      <td>19.380457</td>\n",
       "      <td>...</td>\n",
       "      <td>0.642598</td>\n",
       "      <td>0.584750</td>\n",
       "      <td>0.487310</td>\n",
       "      <td>0.512448</td>\n",
       "      <td>0.277266</td>\n",
       "      <td>0.522654</td>\n",
       "      <td>0.384321</td>\n",
       "      <td>0.376855</td>\n",
       "      <td>0.527813</td>\n",
       "      <td>0.382376</td>\n",
       "    </tr>\n",
       "    <tr>\n",
       "      <th>97</th>\n",
       "      <td>38.043643</td>\n",
       "      <td>0</td>\n",
       "      <td>465408</td>\n",
       "      <td>19.068283</td>\n",
       "      <td>19.580276</td>\n",
       "      <td>17.363647</td>\n",
       "      <td>20.145338</td>\n",
       "      <td>19.882481</td>\n",
       "      <td>19.421577</td>\n",
       "      <td>19.380457</td>\n",
       "      <td>...</td>\n",
       "      <td>0.642598</td>\n",
       "      <td>0.584750</td>\n",
       "      <td>0.487310</td>\n",
       "      <td>0.512448</td>\n",
       "      <td>0.277266</td>\n",
       "      <td>0.522654</td>\n",
       "      <td>0.384321</td>\n",
       "      <td>0.376855</td>\n",
       "      <td>0.527813</td>\n",
       "      <td>0.382376</td>\n",
       "    </tr>\n",
       "    <tr>\n",
       "      <th>98</th>\n",
       "      <td>38.445994</td>\n",
       "      <td>0</td>\n",
       "      <td>465408</td>\n",
       "      <td>19.068283</td>\n",
       "      <td>19.580276</td>\n",
       "      <td>17.363647</td>\n",
       "      <td>20.145338</td>\n",
       "      <td>19.882481</td>\n",
       "      <td>19.421577</td>\n",
       "      <td>19.380457</td>\n",
       "      <td>...</td>\n",
       "      <td>0.642598</td>\n",
       "      <td>0.584750</td>\n",
       "      <td>0.487310</td>\n",
       "      <td>0.512448</td>\n",
       "      <td>0.277266</td>\n",
       "      <td>0.522654</td>\n",
       "      <td>0.384321</td>\n",
       "      <td>0.376855</td>\n",
       "      <td>0.527813</td>\n",
       "      <td>0.382376</td>\n",
       "    </tr>\n",
       "    <tr>\n",
       "      <th>99</th>\n",
       "      <td>38.848906</td>\n",
       "      <td>0</td>\n",
       "      <td>465408</td>\n",
       "      <td>19.068283</td>\n",
       "      <td>19.580276</td>\n",
       "      <td>17.363647</td>\n",
       "      <td>20.145338</td>\n",
       "      <td>19.882481</td>\n",
       "      <td>19.421577</td>\n",
       "      <td>19.380457</td>\n",
       "      <td>...</td>\n",
       "      <td>0.642598</td>\n",
       "      <td>0.584750</td>\n",
       "      <td>0.487310</td>\n",
       "      <td>0.512448</td>\n",
       "      <td>0.277266</td>\n",
       "      <td>0.522654</td>\n",
       "      <td>0.384321</td>\n",
       "      <td>0.376855</td>\n",
       "      <td>0.527813</td>\n",
       "      <td>0.382376</td>\n",
       "    </tr>\n",
       "  </tbody>\n",
       "</table>\n",
       "<p>100 rows × 4003 columns</p>\n",
       "</div>"
      ],
      "text/plain": [
       "         time  chain  memory  theta[0][0]  theta[0][1]  theta[0][2]  \\\n",
       "0    0.378479      0  449024    19.074423    19.574392    17.353775   \n",
       "1    0.750350      0  465408    19.074423    19.574392    17.353775   \n",
       "2    1.119060      0  465408    19.074423    19.574392    17.353775   \n",
       "3    1.485285      0  465408    19.074423    19.574392    17.353775   \n",
       "4    1.858558      0  465408    19.073235    19.574764    17.353361   \n",
       "..        ...    ...     ...          ...          ...          ...   \n",
       "95  37.226100      0  465408    19.068283    19.580276    17.363647   \n",
       "96  37.630332      0  465408    19.068283    19.580276    17.363647   \n",
       "97  38.043643      0  465408    19.068283    19.580276    17.363647   \n",
       "98  38.445994      0  465408    19.068283    19.580276    17.363647   \n",
       "99  38.848906      0  465408    19.068283    19.580276    17.363647   \n",
       "\n",
       "    theta[0][3]  theta[0][4]  theta[0][5]  theta[0][6]  ...  q_noise[199][0]  \\\n",
       "0     20.145325    19.879074    19.419796    19.376577  ...         0.644945   \n",
       "1     20.145325    19.879074    19.419796    19.376577  ...         0.644945   \n",
       "2     20.145325    19.879074    19.419796    19.376577  ...         0.644945   \n",
       "3     20.145325    19.879074    19.419796    19.376577  ...         0.644945   \n",
       "4     20.144772    19.880409    19.418795    19.377100  ...         0.646301   \n",
       "..          ...          ...          ...          ...  ...              ...   \n",
       "95    20.145338    19.882481    19.421577    19.380457  ...         0.642598   \n",
       "96    20.145338    19.882481    19.421577    19.380457  ...         0.642598   \n",
       "97    20.145338    19.882481    19.421577    19.380457  ...         0.642598   \n",
       "98    20.145338    19.882481    19.421577    19.380457  ...         0.642598   \n",
       "99    20.145338    19.882481    19.421577    19.380457  ...         0.642598   \n",
       "\n",
       "    q_noise[199][1]  q_noise[199][2]  q_noise[199][3]  q_noise[199][4]  \\\n",
       "0          0.601498         0.472842         0.515443         0.292436   \n",
       "1          0.601498         0.472842         0.515443         0.292436   \n",
       "2          0.601498         0.472842         0.515443         0.292436   \n",
       "3          0.601498         0.472842         0.515443         0.292436   \n",
       "4          0.600768         0.474074         0.515841         0.292443   \n",
       "..              ...              ...              ...              ...   \n",
       "95         0.584750         0.487310         0.512448         0.277266   \n",
       "96         0.584750         0.487310         0.512448         0.277266   \n",
       "97         0.584750         0.487310         0.512448         0.277266   \n",
       "98         0.584750         0.487310         0.512448         0.277266   \n",
       "99         0.584750         0.487310         0.512448         0.277266   \n",
       "\n",
       "    q_noise[199][5]  q_noise[199][6]  q_noise[199][7]  q_noise[199][8]  \\\n",
       "0          0.531044         0.379930         0.363675         0.527291   \n",
       "1          0.531044         0.379930         0.363675         0.527291   \n",
       "2          0.531044         0.379930         0.363675         0.527291   \n",
       "3          0.531044         0.379930         0.363675         0.527291   \n",
       "4          0.531686         0.381371         0.363508         0.527675   \n",
       "..              ...              ...              ...              ...   \n",
       "95         0.522654         0.384321         0.376855         0.527813   \n",
       "96         0.522654         0.384321         0.376855         0.527813   \n",
       "97         0.522654         0.384321         0.376855         0.527813   \n",
       "98         0.522654         0.384321         0.376855         0.527813   \n",
       "99         0.522654         0.384321         0.376855         0.527813   \n",
       "\n",
       "    q_noise[199][9]  \n",
       "0          0.364453  \n",
       "1          0.364453  \n",
       "2          0.364453  \n",
       "3          0.364453  \n",
       "4          0.365753  \n",
       "..              ...  \n",
       "95         0.382376  \n",
       "96         0.382376  \n",
       "97         0.382376  \n",
       "98         0.382376  \n",
       "99         0.382376  \n",
       "\n",
       "[100 rows x 4003 columns]"
      ]
     },
     "metadata": {},
     "output_type": "display_data"
    }
   ],
   "source": [
    "import os\n",
    "import sys\n",
    "sys.dont_write_bytecode = True\n",
    "sys.path.append(\"../\")\n",
    "sys.path.append(\"../../\")\n",
    "\n",
    "import warnings\n",
    "warnings.filterwarnings(\"ignore\") \n",
    "\n",
    "import torch\n",
    "import numpy as np\n",
    "import pandas as pd\n",
    "from tqdm.auto import tqdm\n",
    "from functools import partial\n",
    "import multiprocessing as mp\n",
    "\n",
    "\n",
    "def load_data(benchmark, method, seed):\n",
    "    print(\"\\r\", end=\"\")\n",
    "    filename = f'logs/samples-{benchmark}-{method}-seed{seed}.log'\n",
    "    with open(filename, 'r') as f:\n",
    "        total_lines = sum(1 for line in f)\n",
    "        total_chunks = (total_lines - 1) // 1000 + 1\n",
    "    # return pd.read_csv(filename, nrows=100)\n",
    "    generator = tqdm(pd.read_csv(filename, chunksize=1000), desc=f'[Loading {filename}]', total=total_chunks, leave=False)\n",
    "    return pd.concat([chunk for chunk in generator])\n",
    "    \n",
    "\n",
    "def compute_total_samples(benchmark, method, num_seeds):\n",
    "    total_samples = []\n",
    "    for seed in range(num_seeds):\n",
    "        filename = f'logs/samples-{benchmark}-{method}-seed{seed}.log'\n",
    "        with open(filename, 'r') as f:\n",
    "            total_lines = sum(1 for line in f)\n",
    "            total_samples.append(total_lines - 1)  # Exclude header\n",
    "    return np.array(total_samples)\n",
    "\n",
    "\n",
    "def compute_time_and_memory(benchmark, method, num_seeds):\n",
    "    time = []\n",
    "    memory = []\n",
    "\n",
    "    with mp.Pool(processes=num_seeds) as pool:\n",
    "        dfs = list(pool.map(partial(load_data, benchmark, method), [seed for seed in range(num_seeds)]))\n",
    "\n",
    "    for seed in range(num_seeds):\n",
    "        cumulative_time = dfs[seed][\"time\"].to_numpy()\n",
    "        time.append(cumulative_time - np.concatenate(([0], cumulative_time[:-1])))\n",
    "        memory.append(dfs[seed][\"memory\"].to_numpy() / (10 ** 9))\n",
    "\n",
    "    return np.concatenate(time), np.concatenate(memory)"
   ]
  },
  {
   "cell_type": "code",
   "execution_count": null,
   "id": "08a1636b",
   "metadata": {},
   "outputs": [
    {
     "ename": "",
     "evalue": "",
     "output_type": "error",
     "traceback": [
      "\u001b[1;31mnotebook controller is DISPOSED. \n",
      "\u001b[1;31mView Jupyter <a href='command:jupyter.viewOutput'>log</a> for further details."
     ]
    }
   ],
   "source": [
    "num_seeds = 8\n",
    "\n",
    "benchmarks = [\"hmm-ord1\", \"hmm-ord2\", \"nhmm-train\", \"nhmm-stock\", \"arm\", \"tcm\"]\n",
    "methods = [\"seq\", \"plate\", \"vmarkov\", \"discHMM\", \"manual\", \"ours\"]\n",
    "\n",
    "if locals().get('total_samples_mean') is None \\\n",
    "    or locals().get('total_samples_std') is None \\\n",
    "    or locals().get('total_samples_ratio') is None:\n",
    "\n",
    "    total_samples_mean = pd.DataFrame()\n",
    "    total_samples_std = pd.DataFrame()\n",
    "\n",
    "    for benchmark in tqdm(benchmarks):\n",
    "        mean = []\n",
    "        std = []\n",
    "\n",
    "        for method in methods:\n",
    "            try:\n",
    "                total_samples = compute_total_samples(benchmark, method, num_seeds)\n",
    "                mean.append(total_samples.mean())\n",
    "                std.append(total_samples.std())\n",
    "\n",
    "            except FileNotFoundError as e:\n",
    "                mean.append(float('nan'))\n",
    "                std.append(float('nan'))\n",
    "\n",
    "        total_samples_mean = pd.concat([total_samples_mean, pd.DataFrame([mean])], axis=0)\n",
    "        total_samples_std = pd.concat([total_samples_std, pd.DataFrame([std])], axis=0)\n",
    "\n",
    "    total_samples_mean.index = benchmarks\n",
    "    total_samples_mean.columns = methods\n",
    "    total_samples_std.index = benchmarks\n",
    "    total_samples_std.columns = methods\n",
    "\n",
    "    total_samples_ratio = total_samples_mean.div(total_samples_mean['ours'], axis=0)\n",
    "\n",
    "\n",
    "display(total_samples_mean.round(3))\n",
    "display(total_samples_ratio.round(4))\n",
    "display(total_samples_std.round(4))\n",
    "display((1/total_samples_ratio).round(4))\n",
    "\n",
    "print(total_samples_mean.to_latex(formatters=[lambda x: f\"{x:.3f}\"]*len(total_samples_mean.columns), na_rep=\"-\", bold_rows=True))\n",
    "print(total_samples_ratio.to_latex(formatters=[lambda x: f\"{x:.4f}\"]*len(total_samples_ratio.columns), na_rep=\"-\", bold_rows=True))\n",
    "print(total_samples_std.to_latex(formatters=[lambda x: f\"{x:.4f}\"]*len(total_samples_std.columns), na_rep=\"-\", bold_rows=True))\n",
    "print((1/total_samples_ratio).to_latex(formatters=[lambda x: f\"{x:.4f}\"]*len(total_samples_ratio.columns), na_rep=\"-\", bold_rows=True))"
   ]
  },
  {
   "cell_type": "code",
   "execution_count": 2,
   "id": "55b80b5a",
   "metadata": {},
   "outputs": [
    {
     "data": {
      "application/vnd.jupyter.widget-view+json": {
       "model_id": "62c7cc22627b4d449f2bd788763af724",
       "version_major": 2,
       "version_minor": 0
      },
      "text/plain": [
       "  0%|          | 0/6 [00:00<?, ?it/s]"
      ]
     },
     "metadata": {},
     "output_type": "display_data"
    },
    {
     "name": "stdout",
     "output_type": "stream",
     "text": []
    },
    {
     "data": {
      "application/vnd.jupyter.widget-view+json": {
       "model_id": "01fb7051ca0145fcbd46bdd6ab3eea31",
       "version_major": 2,
       "version_minor": 0
      },
      "text/plain": [
       "[Loading logs/samples-hmm-ord1-seq-seed0.log]:   0%|          | 0/1 [00:00<?, ?it/s]"
      ]
     },
     "metadata": {},
     "output_type": "display_data"
    },
    {
     "data": {
      "application/vnd.jupyter.widget-view+json": {
       "model_id": "e7252fd2fad14902b1f3348a2dbe624b",
       "version_major": 2,
       "version_minor": 0
      },
      "text/plain": [
       "[Loading logs/samples-hmm-ord1-seq-seed3.log]:   0%|          | 0/1 [00:00<?, ?it/s]"
      ]
     },
     "metadata": {},
     "output_type": "display_data"
    },
    {
     "data": {
      "application/vnd.jupyter.widget-view+json": {
       "model_id": "7fd9579968e44f17a2b16ae090de13d1",
       "version_major": 2,
       "version_minor": 0
      },
      "text/plain": [
       "[Loading logs/samples-hmm-ord1-seq-seed7.log]:   0%|          | 0/1 [00:00<?, ?it/s]"
      ]
     },
     "metadata": {},
     "output_type": "display_data"
    },
    {
     "data": {
      "application/vnd.jupyter.widget-view+json": {
       "model_id": "9ee18f1f934e4b09ad63075d5a900370",
       "version_major": 2,
       "version_minor": 0
      },
      "text/plain": [
       "[Loading logs/samples-hmm-ord1-seq-seed1.log]:   0%|          | 0/1 [00:00<?, ?it/s]"
      ]
     },
     "metadata": {},
     "output_type": "display_data"
    },
    {
     "data": {
      "application/vnd.jupyter.widget-view+json": {
       "model_id": "68df5131bb654b7d80311c81499ca531",
       "version_major": 2,
       "version_minor": 0
      },
      "text/plain": [
       "[Loading logs/samples-hmm-ord1-seq-seed2.log]:   0%|          | 0/1 [00:00<?, ?it/s]"
      ]
     },
     "metadata": {},
     "output_type": "display_data"
    },
    {
     "data": {
      "application/vnd.jupyter.widget-view+json": {
       "model_id": "f38e4dd63eff4278b01e726a1a199a35",
       "version_major": 2,
       "version_minor": 0
      },
      "text/plain": [
       "[Loading logs/samples-hmm-ord1-seq-seed4.log]:   0%|          | 0/1 [00:00<?, ?it/s]"
      ]
     },
     "metadata": {},
     "output_type": "display_data"
    },
    {
     "data": {
      "application/vnd.jupyter.widget-view+json": {
       "model_id": "ad95d8451ca1485685cbe05e4a2434fd",
       "version_major": 2,
       "version_minor": 0
      },
      "text/plain": [
       "[Loading logs/samples-hmm-ord1-seq-seed5.log]:   0%|          | 0/1 [00:00<?, ?it/s]"
      ]
     },
     "metadata": {},
     "output_type": "display_data"
    },
    {
     "data": {
      "application/vnd.jupyter.widget-view+json": {
       "model_id": "7020cc9bf34f48628449d3198dd53d30",
       "version_major": 2,
       "version_minor": 0
      },
      "text/plain": [
       "[Loading logs/samples-hmm-ord1-seq-seed6.log]:   0%|          | 0/1 [00:00<?, ?it/s]"
      ]
     },
     "metadata": {},
     "output_type": "display_data"
    },
    {
     "name": "stdout",
     "output_type": "stream",
     "text": []
    },
    {
     "data": {
      "application/vnd.jupyter.widget-view+json": {
       "model_id": "7cc181dedad74ea8b00bfe10a873631d",
       "version_major": 2,
       "version_minor": 0
      },
      "text/plain": [
       "[Loading logs/samples-hmm-ord1-plate-seed5.log]:   0%|          | 0/2 [00:00<?, ?it/s]"
      ]
     },
     "metadata": {},
     "output_type": "display_data"
    },
    {
     "data": {
      "application/vnd.jupyter.widget-view+json": {
       "model_id": "a35a3191b22346069bcbb886f07ba38d",
       "version_major": 2,
       "version_minor": 0
      },
      "text/plain": [
       "[Loading logs/samples-hmm-ord1-plate-seed6.log]:   0%|          | 0/2 [00:00<?, ?it/s]"
      ]
     },
     "metadata": {},
     "output_type": "display_data"
    },
    {
     "data": {
      "application/vnd.jupyter.widget-view+json": {
       "model_id": "a414f4672a4f40da86087b23fc00fa92",
       "version_major": 2,
       "version_minor": 0
      },
      "text/plain": [
       "[Loading logs/samples-hmm-ord1-plate-seed2.log]:   0%|          | 0/2 [00:00<?, ?it/s]"
      ]
     },
     "metadata": {},
     "output_type": "display_data"
    },
    {
     "data": {
      "application/vnd.jupyter.widget-view+json": {
       "model_id": "7a5ea106cae74cd1a94681587594698f",
       "version_major": 2,
       "version_minor": 0
      },
      "text/plain": [
       "[Loading logs/samples-hmm-ord1-plate-seed4.log]:   0%|          | 0/3 [00:00<?, ?it/s]"
      ]
     },
     "metadata": {},
     "output_type": "display_data"
    },
    {
     "data": {
      "application/vnd.jupyter.widget-view+json": {
       "model_id": "1a6d536ed7fc46619427e5326ea7e261",
       "version_major": 2,
       "version_minor": 0
      },
      "text/plain": [
       "[Loading logs/samples-hmm-ord1-plate-seed1.log]:   0%|          | 0/2 [00:00<?, ?it/s]"
      ]
     },
     "metadata": {},
     "output_type": "display_data"
    },
    {
     "data": {
      "application/vnd.jupyter.widget-view+json": {
       "model_id": "0f36ee7089604052b717cf5ac827a592",
       "version_major": 2,
       "version_minor": 0
      },
      "text/plain": [
       "[Loading logs/samples-hmm-ord1-plate-seed0.log]:   0%|          | 0/2 [00:00<?, ?it/s]"
      ]
     },
     "metadata": {},
     "output_type": "display_data"
    },
    {
     "data": {
      "application/vnd.jupyter.widget-view+json": {
       "model_id": "75243c062d07419a9db9cd6818a8cbad",
       "version_major": 2,
       "version_minor": 0
      },
      "text/plain": [
       "[Loading logs/samples-hmm-ord1-plate-seed7.log]:   0%|          | 0/2 [00:00<?, ?it/s]"
      ]
     },
     "metadata": {},
     "output_type": "display_data"
    },
    {
     "data": {
      "application/vnd.jupyter.widget-view+json": {
       "model_id": "74bd64c7a1764af7bd64c7c79e42748c",
       "version_major": 2,
       "version_minor": 0
      },
      "text/plain": [
       "[Loading logs/samples-hmm-ord1-plate-seed3.log]:   0%|          | 0/2 [00:00<?, ?it/s]"
      ]
     },
     "metadata": {},
     "output_type": "display_data"
    },
    {
     "name": "stdout",
     "output_type": "stream",
     "text": []
    },
    {
     "data": {
      "application/vnd.jupyter.widget-view+json": {
       "model_id": "7ba23181ee014a8786eba61957bfd492",
       "version_major": 2,
       "version_minor": 0
      },
      "text/plain": [
       "[Loading logs/samples-hmm-ord1-vmarkov-seed7.log]:   0%|          | 0/5 [00:00<?, ?it/s]"
      ]
     },
     "metadata": {},
     "output_type": "display_data"
    },
    {
     "data": {
      "application/vnd.jupyter.widget-view+json": {
       "model_id": "ef346e0e6ba8465295f4af8d1a64389d",
       "version_major": 2,
       "version_minor": 0
      },
      "text/plain": [
       "[Loading logs/samples-hmm-ord1-vmarkov-seed0.log]:   0%|          | 0/5 [00:00<?, ?it/s]"
      ]
     },
     "metadata": {},
     "output_type": "display_data"
    },
    {
     "data": {
      "application/vnd.jupyter.widget-view+json": {
       "model_id": "5a4355af74a54608883074cf428a0a08",
       "version_major": 2,
       "version_minor": 0
      },
      "text/plain": [
       "[Loading logs/samples-hmm-ord1-vmarkov-seed2.log]:   0%|          | 0/5 [00:00<?, ?it/s]"
      ]
     },
     "metadata": {},
     "output_type": "display_data"
    },
    {
     "data": {
      "application/vnd.jupyter.widget-view+json": {
       "model_id": "0da863aa05fe49a59229ee444951bdcc",
       "version_major": 2,
       "version_minor": 0
      },
      "text/plain": [
       "[Loading logs/samples-hmm-ord1-vmarkov-seed3.log]:   0%|          | 0/5 [00:00<?, ?it/s]"
      ]
     },
     "metadata": {},
     "output_type": "display_data"
    },
    {
     "data": {
      "application/vnd.jupyter.widget-view+json": {
       "model_id": "91538b40259b456cbf843bb766d67e82",
       "version_major": 2,
       "version_minor": 0
      },
      "text/plain": [
       "[Loading logs/samples-hmm-ord1-vmarkov-seed6.log]:   0%|          | 0/5 [00:00<?, ?it/s]"
      ]
     },
     "metadata": {},
     "output_type": "display_data"
    },
    {
     "data": {
      "application/vnd.jupyter.widget-view+json": {
       "model_id": "1dc0cede56254a6ba4b90bb81fe3260b",
       "version_major": 2,
       "version_minor": 0
      },
      "text/plain": [
       "[Loading logs/samples-hmm-ord1-vmarkov-seed4.log]:   0%|          | 0/5 [00:00<?, ?it/s]"
      ]
     },
     "metadata": {},
     "output_type": "display_data"
    },
    {
     "data": {
      "application/vnd.jupyter.widget-view+json": {
       "model_id": "f434eb551a3d426eab12b79bdb20a030",
       "version_major": 2,
       "version_minor": 0
      },
      "text/plain": [
       "[Loading logs/samples-hmm-ord1-vmarkov-seed1.log]:   0%|          | 0/5 [00:00<?, ?it/s]"
      ]
     },
     "metadata": {},
     "output_type": "display_data"
    },
    {
     "data": {
      "application/vnd.jupyter.widget-view+json": {
       "model_id": "2be6ffc104f44d9a9697ca11c5abbfc3",
       "version_major": 2,
       "version_minor": 0
      },
      "text/plain": [
       "[Loading logs/samples-hmm-ord1-vmarkov-seed5.log]:   0%|          | 0/5 [00:00<?, ?it/s]"
      ]
     },
     "metadata": {},
     "output_type": "display_data"
    },
    {
     "name": "stdout",
     "output_type": "stream",
     "text": []
    },
    {
     "data": {
      "application/vnd.jupyter.widget-view+json": {
       "model_id": "3ceb0ef5574f47199610eb2552433b18",
       "version_major": 2,
       "version_minor": 0
      },
      "text/plain": [
       "[Loading logs/samples-hmm-ord1-discHMM-seed6.log]:   0%|          | 0/16 [00:00<?, ?it/s]"
      ]
     },
     "metadata": {},
     "output_type": "display_data"
    },
    {
     "data": {
      "application/vnd.jupyter.widget-view+json": {
       "model_id": "29a5ae21be2145e0a95b2a374ab5d726",
       "version_major": 2,
       "version_minor": 0
      },
      "text/plain": [
       "[Loading logs/samples-hmm-ord1-discHMM-seed3.log]:   0%|          | 0/16 [00:00<?, ?it/s]"
      ]
     },
     "metadata": {},
     "output_type": "display_data"
    },
    {
     "data": {
      "application/vnd.jupyter.widget-view+json": {
       "model_id": "df48cf6796324e8893d8e44948c6a053",
       "version_major": 2,
       "version_minor": 0
      },
      "text/plain": [
       "[Loading logs/samples-hmm-ord1-discHMM-seed4.log]:   0%|          | 0/17 [00:00<?, ?it/s]"
      ]
     },
     "metadata": {},
     "output_type": "display_data"
    },
    {
     "data": {
      "application/vnd.jupyter.widget-view+json": {
       "model_id": "a08ac98f546d4b2bbddb7928e1f75ab1",
       "version_major": 2,
       "version_minor": 0
      },
      "text/plain": [
       "[Loading logs/samples-hmm-ord1-discHMM-seed2.log]:   0%|          | 0/16 [00:00<?, ?it/s]"
      ]
     },
     "metadata": {},
     "output_type": "display_data"
    },
    {
     "data": {
      "application/vnd.jupyter.widget-view+json": {
       "model_id": "6c3339686bc5445ca1a8ddb1a04069cf",
       "version_major": 2,
       "version_minor": 0
      },
      "text/plain": [
       "[Loading logs/samples-hmm-ord1-discHMM-seed0.log]:   0%|          | 0/16 [00:00<?, ?it/s]"
      ]
     },
     "metadata": {},
     "output_type": "display_data"
    },
    {
     "data": {
      "application/vnd.jupyter.widget-view+json": {
       "model_id": "4de94705d54b4cd6a8a9e568dc98f51b",
       "version_major": 2,
       "version_minor": 0
      },
      "text/plain": [
       "[Loading logs/samples-hmm-ord1-discHMM-seed5.log]:   0%|          | 0/16 [00:00<?, ?it/s]"
      ]
     },
     "metadata": {},
     "output_type": "display_data"
    },
    {
     "data": {
      "application/vnd.jupyter.widget-view+json": {
       "model_id": "19aff7f11a3f4530bf88f4ea659ea62d",
       "version_major": 2,
       "version_minor": 0
      },
      "text/plain": [
       "[Loading logs/samples-hmm-ord1-discHMM-seed7.log]:   0%|          | 0/16 [00:00<?, ?it/s]"
      ]
     },
     "metadata": {},
     "output_type": "display_data"
    },
    {
     "data": {
      "application/vnd.jupyter.widget-view+json": {
       "model_id": "ade0182df58b4e3fabe91bc51a28aec7",
       "version_major": 2,
       "version_minor": 0
      },
      "text/plain": [
       "[Loading logs/samples-hmm-ord1-discHMM-seed1.log]:   0%|          | 0/19 [00:00<?, ?it/s]"
      ]
     },
     "metadata": {},
     "output_type": "display_data"
    },
    {
     "name": "stdout",
     "output_type": "stream",
     "text": []
    },
    {
     "data": {
      "application/vnd.jupyter.widget-view+json": {
       "model_id": "da0545ca432b41ba913c950b204edc7e",
       "version_major": 2,
       "version_minor": 0
      },
      "text/plain": [
       "[Loading logs/samples-hmm-ord1-manual-seed0.log]:   0%|          | 0/10 [00:00<?, ?it/s]"
      ]
     },
     "metadata": {},
     "output_type": "display_data"
    },
    {
     "data": {
      "application/vnd.jupyter.widget-view+json": {
       "model_id": "8c69495152e84b068171fce7d837da6d",
       "version_major": 2,
       "version_minor": 0
      },
      "text/plain": [
       "[Loading logs/samples-hmm-ord1-manual-seed2.log]:   0%|          | 0/10 [00:00<?, ?it/s]"
      ]
     },
     "metadata": {},
     "output_type": "display_data"
    },
    {
     "data": {
      "application/vnd.jupyter.widget-view+json": {
       "model_id": "d69fb06398b843d69942dabcf7243d5c",
       "version_major": 2,
       "version_minor": 0
      },
      "text/plain": [
       "[Loading logs/samples-hmm-ord1-manual-seed5.log]:   0%|          | 0/9 [00:00<?, ?it/s]"
      ]
     },
     "metadata": {},
     "output_type": "display_data"
    },
    {
     "data": {
      "application/vnd.jupyter.widget-view+json": {
       "model_id": "1c6614767a58464888f090f5f6411209",
       "version_major": 2,
       "version_minor": 0
      },
      "text/plain": [
       "[Loading logs/samples-hmm-ord1-manual-seed3.log]:   0%|          | 0/10 [00:00<?, ?it/s]"
      ]
     },
     "metadata": {},
     "output_type": "display_data"
    },
    {
     "data": {
      "application/vnd.jupyter.widget-view+json": {
       "model_id": "46863caab7a9444e957edac4b05358fa",
       "version_major": 2,
       "version_minor": 0
      },
      "text/plain": [
       "[Loading logs/samples-hmm-ord1-manual-seed7.log]:   0%|          | 0/9 [00:00<?, ?it/s]"
      ]
     },
     "metadata": {},
     "output_type": "display_data"
    },
    {
     "data": {
      "application/vnd.jupyter.widget-view+json": {
       "model_id": "f63e0e18832640b289099e438cf24e11",
       "version_major": 2,
       "version_minor": 0
      },
      "text/plain": [
       "[Loading logs/samples-hmm-ord1-manual-seed4.log]:   0%|          | 0/9 [00:00<?, ?it/s]"
      ]
     },
     "metadata": {},
     "output_type": "display_data"
    },
    {
     "data": {
      "application/vnd.jupyter.widget-view+json": {
       "model_id": "f668ba27879946819470053d35367a28",
       "version_major": 2,
       "version_minor": 0
      },
      "text/plain": [
       "[Loading logs/samples-hmm-ord1-manual-seed6.log]:   0%|          | 0/9 [00:00<?, ?it/s]"
      ]
     },
     "metadata": {},
     "output_type": "display_data"
    },
    {
     "data": {
      "application/vnd.jupyter.widget-view+json": {
       "model_id": "bfda79588e374f18bc739e93283a76ab",
       "version_major": 2,
       "version_minor": 0
      },
      "text/plain": [
       "[Loading logs/samples-hmm-ord1-manual-seed1.log]:   0%|          | 0/10 [00:00<?, ?it/s]"
      ]
     },
     "metadata": {},
     "output_type": "display_data"
    },
    {
     "name": "stdout",
     "output_type": "stream",
     "text": []
    },
    {
     "data": {
      "application/vnd.jupyter.widget-view+json": {
       "model_id": "08e4057e8e3e42c5b4e705bf34a3d97d",
       "version_major": 2,
       "version_minor": 0
      },
      "text/plain": [
       "[Loading logs/samples-hmm-ord1-ours-seed6.log]:   0%|          | 0/5 [00:00<?, ?it/s]"
      ]
     },
     "metadata": {},
     "output_type": "display_data"
    },
    {
     "data": {
      "application/vnd.jupyter.widget-view+json": {
       "model_id": "0b809d6b56ce497da23c14719a5b74ea",
       "version_major": 2,
       "version_minor": 0
      },
      "text/plain": [
       "[Loading logs/samples-hmm-ord1-ours-seed2.log]:   0%|          | 0/5 [00:00<?, ?it/s]"
      ]
     },
     "metadata": {},
     "output_type": "display_data"
    },
    {
     "data": {
      "application/vnd.jupyter.widget-view+json": {
       "model_id": "7973f102641e44a7bfeb59ff2c632aad",
       "version_major": 2,
       "version_minor": 0
      },
      "text/plain": [
       "[Loading logs/samples-hmm-ord1-ours-seed5.log]:   0%|          | 0/5 [00:00<?, ?it/s]"
      ]
     },
     "metadata": {},
     "output_type": "display_data"
    },
    {
     "data": {
      "application/vnd.jupyter.widget-view+json": {
       "model_id": "e554117e87b74cbf8afd930b191a5afe",
       "version_major": 2,
       "version_minor": 0
      },
      "text/plain": [
       "[Loading logs/samples-hmm-ord1-ours-seed7.log]:   0%|          | 0/5 [00:00<?, ?it/s]"
      ]
     },
     "metadata": {},
     "output_type": "display_data"
    },
    {
     "data": {
      "application/vnd.jupyter.widget-view+json": {
       "model_id": "0d4174e7083d4ede8bb1d88e5e4b5e17",
       "version_major": 2,
       "version_minor": 0
      },
      "text/plain": [
       "[Loading logs/samples-hmm-ord1-ours-seed0.log]:   0%|          | 0/5 [00:00<?, ?it/s]"
      ]
     },
     "metadata": {},
     "output_type": "display_data"
    },
    {
     "data": {
      "application/vnd.jupyter.widget-view+json": {
       "model_id": "8a2d417e01fd441c861718068de54b7d",
       "version_major": 2,
       "version_minor": 0
      },
      "text/plain": [
       "[Loading logs/samples-hmm-ord1-ours-seed1.log]:   0%|          | 0/5 [00:00<?, ?it/s]"
      ]
     },
     "metadata": {},
     "output_type": "display_data"
    },
    {
     "data": {
      "application/vnd.jupyter.widget-view+json": {
       "model_id": "ab027ee6d5154a70b6345a2838b9c01e",
       "version_major": 2,
       "version_minor": 0
      },
      "text/plain": [
       "[Loading logs/samples-hmm-ord1-ours-seed4.log]:   0%|          | 0/5 [00:00<?, ?it/s]"
      ]
     },
     "metadata": {},
     "output_type": "display_data"
    },
    {
     "data": {
      "application/vnd.jupyter.widget-view+json": {
       "model_id": "a3cb0aff752c4fbc99ad13e06553de82",
       "version_major": 2,
       "version_minor": 0
      },
      "text/plain": [
       "[Loading logs/samples-hmm-ord1-ours-seed3.log]:   0%|          | 0/5 [00:00<?, ?it/s]"
      ]
     },
     "metadata": {},
     "output_type": "display_data"
    },
    {
     "name": "stdout",
     "output_type": "stream",
     "text": []
    },
    {
     "data": {
      "application/vnd.jupyter.widget-view+json": {
       "model_id": "c47a7ef5ed1a46b8bc0e98b30a49c3df",
       "version_major": 2,
       "version_minor": 0
      },
      "text/plain": [
       "[Loading logs/samples-hmm-ord2-seq-seed7.log]:   0%|          | 0/1 [00:00<?, ?it/s]"
      ]
     },
     "metadata": {},
     "output_type": "display_data"
    },
    {
     "data": {
      "application/vnd.jupyter.widget-view+json": {
       "model_id": "66db8c5c5a3f426bb7fae653debd2502",
       "version_major": 2,
       "version_minor": 0
      },
      "text/plain": [
       "[Loading logs/samples-hmm-ord2-seq-seed0.log]:   0%|          | 0/1 [00:00<?, ?it/s]"
      ]
     },
     "metadata": {},
     "output_type": "display_data"
    },
    {
     "data": {
      "application/vnd.jupyter.widget-view+json": {
       "model_id": "67fe856d4cc546c2ab2cca6d370b782e",
       "version_major": 2,
       "version_minor": 0
      },
      "text/plain": [
       "[Loading logs/samples-hmm-ord2-seq-seed5.log]:   0%|          | 0/1 [00:00<?, ?it/s]"
      ]
     },
     "metadata": {},
     "output_type": "display_data"
    },
    {
     "data": {
      "application/vnd.jupyter.widget-view+json": {
       "model_id": "0487dc15596c4a16ac8976115d4d42a3",
       "version_major": 2,
       "version_minor": 0
      },
      "text/plain": [
       "[Loading logs/samples-hmm-ord2-seq-seed3.log]:   0%|          | 0/1 [00:00<?, ?it/s]"
      ]
     },
     "metadata": {},
     "output_type": "display_data"
    },
    {
     "data": {
      "application/vnd.jupyter.widget-view+json": {
       "model_id": "0a83c35b34b0460ab1e423a02e3320c1",
       "version_major": 2,
       "version_minor": 0
      },
      "text/plain": [
       "[Loading logs/samples-hmm-ord2-seq-seed2.log]:   0%|          | 0/1 [00:00<?, ?it/s]"
      ]
     },
     "metadata": {},
     "output_type": "display_data"
    },
    {
     "data": {
      "application/vnd.jupyter.widget-view+json": {
       "model_id": "3a054c2ce54d4a7a88cdd1f29a857533",
       "version_major": 2,
       "version_minor": 0
      },
      "text/plain": [
       "[Loading logs/samples-hmm-ord2-seq-seed4.log]:   0%|          | 0/1 [00:00<?, ?it/s]"
      ]
     },
     "metadata": {},
     "output_type": "display_data"
    },
    {
     "data": {
      "application/vnd.jupyter.widget-view+json": {
       "model_id": "e375c2f69e0f4014a5775e6511f7dadf",
       "version_major": 2,
       "version_minor": 0
      },
      "text/plain": [
       "[Loading logs/samples-hmm-ord2-seq-seed1.log]:   0%|          | 0/1 [00:00<?, ?it/s]"
      ]
     },
     "metadata": {},
     "output_type": "display_data"
    },
    {
     "data": {
      "application/vnd.jupyter.widget-view+json": {
       "model_id": "8f44746f17864f309ecdff753ae5115f",
       "version_major": 2,
       "version_minor": 0
      },
      "text/plain": [
       "[Loading logs/samples-hmm-ord2-seq-seed6.log]:   0%|          | 0/1 [00:00<?, ?it/s]"
      ]
     },
     "metadata": {},
     "output_type": "display_data"
    },
    {
     "name": "stdout",
     "output_type": "stream",
     "text": []
    },
    {
     "data": {
      "application/vnd.jupyter.widget-view+json": {
       "model_id": "8a6a982244ef4f0da60c4e4cc8fcf156",
       "version_major": 2,
       "version_minor": 0
      },
      "text/plain": [
       "[Loading logs/samples-hmm-ord2-plate-seed3.log]:   0%|          | 0/2 [00:00<?, ?it/s]"
      ]
     },
     "metadata": {},
     "output_type": "display_data"
    },
    {
     "data": {
      "application/vnd.jupyter.widget-view+json": {
       "model_id": "c2df330803fc4927885aeeca9a274afe",
       "version_major": 2,
       "version_minor": 0
      },
      "text/plain": [
       "[Loading logs/samples-hmm-ord2-plate-seed0.log]:   0%|          | 0/2 [00:00<?, ?it/s]"
      ]
     },
     "metadata": {},
     "output_type": "display_data"
    },
    {
     "data": {
      "application/vnd.jupyter.widget-view+json": {
       "model_id": "c83c09cf7e714f7fa6ab5e081d52a66c",
       "version_major": 2,
       "version_minor": 0
      },
      "text/plain": [
       "[Loading logs/samples-hmm-ord2-plate-seed7.log]:   0%|          | 0/2 [00:00<?, ?it/s]"
      ]
     },
     "metadata": {},
     "output_type": "display_data"
    },
    {
     "data": {
      "application/vnd.jupyter.widget-view+json": {
       "model_id": "ed44bec5587446a88aea30c5262663e6",
       "version_major": 2,
       "version_minor": 0
      },
      "text/plain": [
       "[Loading logs/samples-hmm-ord2-plate-seed5.log]:   0%|          | 0/2 [00:00<?, ?it/s]"
      ]
     },
     "metadata": {},
     "output_type": "display_data"
    },
    {
     "data": {
      "application/vnd.jupyter.widget-view+json": {
       "model_id": "f2d33e238bfa4ce88ee55d0c1a40d34f",
       "version_major": 2,
       "version_minor": 0
      },
      "text/plain": [
       "[Loading logs/samples-hmm-ord2-plate-seed6.log]:   0%|          | 0/2 [00:00<?, ?it/s]"
      ]
     },
     "metadata": {},
     "output_type": "display_data"
    },
    {
     "data": {
      "application/vnd.jupyter.widget-view+json": {
       "model_id": "438d6e71a133403aa7a064a56ab10f98",
       "version_major": 2,
       "version_minor": 0
      },
      "text/plain": [
       "[Loading logs/samples-hmm-ord2-plate-seed4.log]:   0%|          | 0/2 [00:00<?, ?it/s]"
      ]
     },
     "metadata": {},
     "output_type": "display_data"
    },
    {
     "data": {
      "application/vnd.jupyter.widget-view+json": {
       "model_id": "ac5135132463498da9450358b6f3792d",
       "version_major": 2,
       "version_minor": 0
      },
      "text/plain": [
       "[Loading logs/samples-hmm-ord2-plate-seed1.log]:   0%|          | 0/2 [00:00<?, ?it/s]"
      ]
     },
     "metadata": {},
     "output_type": "display_data"
    },
    {
     "data": {
      "application/vnd.jupyter.widget-view+json": {
       "model_id": "19ae1028e13c4c67950f46380df54468",
       "version_major": 2,
       "version_minor": 0
      },
      "text/plain": [
       "[Loading logs/samples-hmm-ord2-plate-seed2.log]:   0%|          | 0/2 [00:00<?, ?it/s]"
      ]
     },
     "metadata": {},
     "output_type": "display_data"
    },
    {
     "name": "stdout",
     "output_type": "stream",
     "text": []
    },
    {
     "data": {
      "application/vnd.jupyter.widget-view+json": {
       "model_id": "96ef48307d324c44832f693d399edc5c",
       "version_major": 2,
       "version_minor": 0
      },
      "text/plain": [
       "[Loading logs/samples-hmm-ord2-vmarkov-seed6.log]:   0%|          | 0/2 [00:00<?, ?it/s]"
      ]
     },
     "metadata": {},
     "output_type": "display_data"
    },
    {
     "data": {
      "application/vnd.jupyter.widget-view+json": {
       "model_id": "0e9a8abf347a45e39fdbed793b20350c",
       "version_major": 2,
       "version_minor": 0
      },
      "text/plain": [
       "[Loading logs/samples-hmm-ord2-vmarkov-seed3.log]:   0%|          | 0/2 [00:00<?, ?it/s]"
      ]
     },
     "metadata": {},
     "output_type": "display_data"
    },
    {
     "data": {
      "application/vnd.jupyter.widget-view+json": {
       "model_id": "8fb4bfbadf454ec38840ecffa2a8df4e",
       "version_major": 2,
       "version_minor": 0
      },
      "text/plain": [
       "[Loading logs/samples-hmm-ord2-vmarkov-seed5.log]:   0%|          | 0/2 [00:00<?, ?it/s]"
      ]
     },
     "metadata": {},
     "output_type": "display_data"
    },
    {
     "data": {
      "application/vnd.jupyter.widget-view+json": {
       "model_id": "16f6dd7097b946fbb6e77c6bdac73f2a",
       "version_major": 2,
       "version_minor": 0
      },
      "text/plain": [
       "[Loading logs/samples-hmm-ord2-vmarkov-seed1.log]:   0%|          | 0/2 [00:00<?, ?it/s]"
      ]
     },
     "metadata": {},
     "output_type": "display_data"
    },
    {
     "data": {
      "application/vnd.jupyter.widget-view+json": {
       "model_id": "6b1dd466f7504871872b499581cbb9c5",
       "version_major": 2,
       "version_minor": 0
      },
      "text/plain": [
       "[Loading logs/samples-hmm-ord2-vmarkov-seed0.log]:   0%|          | 0/2 [00:00<?, ?it/s]"
      ]
     },
     "metadata": {},
     "output_type": "display_data"
    },
    {
     "data": {
      "application/vnd.jupyter.widget-view+json": {
       "model_id": "5d3b6812fe6b4291a57458e5eee22aae",
       "version_major": 2,
       "version_minor": 0
      },
      "text/plain": [
       "[Loading logs/samples-hmm-ord2-vmarkov-seed4.log]:   0%|          | 0/2 [00:00<?, ?it/s]"
      ]
     },
     "metadata": {},
     "output_type": "display_data"
    },
    {
     "data": {
      "application/vnd.jupyter.widget-view+json": {
       "model_id": "edeba899853745328b28ab8ac68c9a30",
       "version_major": 2,
       "version_minor": 0
      },
      "text/plain": [
       "[Loading logs/samples-hmm-ord2-vmarkov-seed2.log]:   0%|          | 0/2 [00:00<?, ?it/s]"
      ]
     },
     "metadata": {},
     "output_type": "display_data"
    },
    {
     "data": {
      "application/vnd.jupyter.widget-view+json": {
       "model_id": "e1205f64a052435badde8372e95f1f5d",
       "version_major": 2,
       "version_minor": 0
      },
      "text/plain": [
       "[Loading logs/samples-hmm-ord2-vmarkov-seed7.log]:   0%|          | 0/2 [00:00<?, ?it/s]"
      ]
     },
     "metadata": {},
     "output_type": "display_data"
    },
    {
     "name": "stdout",
     "output_type": "stream",
     "text": []
    },
    {
     "data": {
      "application/vnd.jupyter.widget-view+json": {
       "model_id": "c80ee73674b24dee93d133e293abcd04",
       "version_major": 2,
       "version_minor": 0
      },
      "text/plain": [
       "[Loading logs/samples-hmm-ord2-manual-seed6.log]:   0%|          | 0/3 [00:00<?, ?it/s]"
      ]
     },
     "metadata": {},
     "output_type": "display_data"
    },
    {
     "data": {
      "application/vnd.jupyter.widget-view+json": {
       "model_id": "c04ebb9a4d17454094c8edaa462dd3af",
       "version_major": 2,
       "version_minor": 0
      },
      "text/plain": [
       "[Loading logs/samples-hmm-ord2-manual-seed4.log]:   0%|          | 0/3 [00:00<?, ?it/s]"
      ]
     },
     "metadata": {},
     "output_type": "display_data"
    },
    {
     "data": {
      "application/vnd.jupyter.widget-view+json": {
       "model_id": "dab42dd68c61468b94eb2d28424013bf",
       "version_major": 2,
       "version_minor": 0
      },
      "text/plain": [
       "[Loading logs/samples-hmm-ord2-manual-seed7.log]:   0%|          | 0/3 [00:00<?, ?it/s]"
      ]
     },
     "metadata": {},
     "output_type": "display_data"
    },
    {
     "data": {
      "application/vnd.jupyter.widget-view+json": {
       "model_id": "8cbfeba856394a5c88cc224aef721e5d",
       "version_major": 2,
       "version_minor": 0
      },
      "text/plain": [
       "[Loading logs/samples-hmm-ord2-manual-seed2.log]:   0%|          | 0/3 [00:00<?, ?it/s]"
      ]
     },
     "metadata": {},
     "output_type": "display_data"
    },
    {
     "data": {
      "application/vnd.jupyter.widget-view+json": {
       "model_id": "a7ec5745100f462aa1afab3d75ff306b",
       "version_major": 2,
       "version_minor": 0
      },
      "text/plain": [
       "[Loading logs/samples-hmm-ord2-manual-seed5.log]:   0%|          | 0/3 [00:00<?, ?it/s]"
      ]
     },
     "metadata": {},
     "output_type": "display_data"
    },
    {
     "data": {
      "application/vnd.jupyter.widget-view+json": {
       "model_id": "9a16a942757a458893e1e292e09cd8f4",
       "version_major": 2,
       "version_minor": 0
      },
      "text/plain": [
       "[Loading logs/samples-hmm-ord2-manual-seed1.log]:   0%|          | 0/4 [00:00<?, ?it/s]"
      ]
     },
     "metadata": {},
     "output_type": "display_data"
    },
    {
     "data": {
      "application/vnd.jupyter.widget-view+json": {
       "model_id": "cf0706a0589540ed8000e1da92b2216d",
       "version_major": 2,
       "version_minor": 0
      },
      "text/plain": [
       "[Loading logs/samples-hmm-ord2-manual-seed0.log]:   0%|          | 0/3 [00:00<?, ?it/s]"
      ]
     },
     "metadata": {},
     "output_type": "display_data"
    },
    {
     "data": {
      "application/vnd.jupyter.widget-view+json": {
       "model_id": "7eccc995de5c4bd8bcca44648c564827",
       "version_major": 2,
       "version_minor": 0
      },
      "text/plain": [
       "[Loading logs/samples-hmm-ord2-manual-seed3.log]:   0%|          | 0/3 [00:00<?, ?it/s]"
      ]
     },
     "metadata": {},
     "output_type": "display_data"
    },
    {
     "name": "stdout",
     "output_type": "stream",
     "text": []
    },
    {
     "data": {
      "application/vnd.jupyter.widget-view+json": {
       "model_id": "18804f7ba87648c584ca7def57d8b4b3",
       "version_major": 2,
       "version_minor": 0
      },
      "text/plain": [
       "[Loading logs/samples-hmm-ord2-ours-seed0.log]:   0%|          | 0/3 [00:00<?, ?it/s]"
      ]
     },
     "metadata": {},
     "output_type": "display_data"
    },
    {
     "data": {
      "application/vnd.jupyter.widget-view+json": {
       "model_id": "9ad0a5221051471d8bd16513b8a85dc7",
       "version_major": 2,
       "version_minor": 0
      },
      "text/plain": [
       "[Loading logs/samples-hmm-ord2-ours-seed3.log]:   0%|          | 0/3 [00:00<?, ?it/s]"
      ]
     },
     "metadata": {},
     "output_type": "display_data"
    },
    {
     "data": {
      "application/vnd.jupyter.widget-view+json": {
       "model_id": "0526a90777524e4bb251cf800841a373",
       "version_major": 2,
       "version_minor": 0
      },
      "text/plain": [
       "[Loading logs/samples-hmm-ord2-ours-seed1.log]:   0%|          | 0/3 [00:00<?, ?it/s]"
      ]
     },
     "metadata": {},
     "output_type": "display_data"
    },
    {
     "data": {
      "application/vnd.jupyter.widget-view+json": {
       "model_id": "2571e7ef819b4fa6b24c23f6efc356ec",
       "version_major": 2,
       "version_minor": 0
      },
      "text/plain": [
       "[Loading logs/samples-hmm-ord2-ours-seed6.log]:   0%|          | 0/3 [00:00<?, ?it/s]"
      ]
     },
     "metadata": {},
     "output_type": "display_data"
    },
    {
     "data": {
      "application/vnd.jupyter.widget-view+json": {
       "model_id": "f9abd06e757945b2af38ebee3786b68a",
       "version_major": 2,
       "version_minor": 0
      },
      "text/plain": [
       "[Loading logs/samples-hmm-ord2-ours-seed4.log]:   0%|          | 0/3 [00:00<?, ?it/s]"
      ]
     },
     "metadata": {},
     "output_type": "display_data"
    },
    {
     "data": {
      "application/vnd.jupyter.widget-view+json": {
       "model_id": "d8fb186c4920418ab7ad361192159f20",
       "version_major": 2,
       "version_minor": 0
      },
      "text/plain": [
       "[Loading logs/samples-hmm-ord2-ours-seed7.log]:   0%|          | 0/3 [00:00<?, ?it/s]"
      ]
     },
     "metadata": {},
     "output_type": "display_data"
    },
    {
     "data": {
      "application/vnd.jupyter.widget-view+json": {
       "model_id": "ba19482e77e6493f8b3511ecae1e02ad",
       "version_major": 2,
       "version_minor": 0
      },
      "text/plain": [
       "[Loading logs/samples-hmm-ord2-ours-seed5.log]:   0%|          | 0/3 [00:00<?, ?it/s]"
      ]
     },
     "metadata": {},
     "output_type": "display_data"
    },
    {
     "data": {
      "application/vnd.jupyter.widget-view+json": {
       "model_id": "ff5a98be4fce4f43addf8ce1ccc2f2f8",
       "version_major": 2,
       "version_minor": 0
      },
      "text/plain": [
       "[Loading logs/samples-hmm-ord2-ours-seed2.log]:   0%|          | 0/3 [00:00<?, ?it/s]"
      ]
     },
     "metadata": {},
     "output_type": "display_data"
    },
    {
     "name": "stdout",
     "output_type": "stream",
     "text": []
    },
    {
     "data": {
      "application/vnd.jupyter.widget-view+json": {
       "model_id": "a587463d1d704a759c155228c9dbb4d5",
       "version_major": 2,
       "version_minor": 0
      },
      "text/plain": [
       "[Loading logs/samples-nhmm-train-seq-seed0.log]:   0%|          | 0/1 [00:00<?, ?it/s]"
      ]
     },
     "metadata": {},
     "output_type": "display_data"
    },
    {
     "data": {
      "application/vnd.jupyter.widget-view+json": {
       "model_id": "a9c7a6e6358649e784f327354979e253",
       "version_major": 2,
       "version_minor": 0
      },
      "text/plain": [
       "[Loading logs/samples-nhmm-train-seq-seed7.log]:   0%|          | 0/1 [00:00<?, ?it/s]"
      ]
     },
     "metadata": {},
     "output_type": "display_data"
    },
    {
     "data": {
      "application/vnd.jupyter.widget-view+json": {
       "model_id": "3ef7ebfdd3db4c16a4458973b3cb0db2",
       "version_major": 2,
       "version_minor": 0
      },
      "text/plain": [
       "[Loading logs/samples-nhmm-train-seq-seed4.log]:   0%|          | 0/1 [00:00<?, ?it/s]"
      ]
     },
     "metadata": {},
     "output_type": "display_data"
    },
    {
     "data": {
      "application/vnd.jupyter.widget-view+json": {
       "model_id": "a235a76dd6b74e1889f77bef13305bd2",
       "version_major": 2,
       "version_minor": 0
      },
      "text/plain": [
       "[Loading logs/samples-nhmm-train-seq-seed2.log]:   0%|          | 0/1 [00:00<?, ?it/s]"
      ]
     },
     "metadata": {},
     "output_type": "display_data"
    },
    {
     "data": {
      "application/vnd.jupyter.widget-view+json": {
       "model_id": "1948eef37bd74641901996bbbae67e24",
       "version_major": 2,
       "version_minor": 0
      },
      "text/plain": [
       "[Loading logs/samples-nhmm-train-seq-seed3.log]:   0%|          | 0/1 [00:00<?, ?it/s]"
      ]
     },
     "metadata": {},
     "output_type": "display_data"
    },
    {
     "data": {
      "application/vnd.jupyter.widget-view+json": {
       "model_id": "2df7cceebefa4424a7f647aa544631af",
       "version_major": 2,
       "version_minor": 0
      },
      "text/plain": [
       "[Loading logs/samples-nhmm-train-seq-seed6.log]:   0%|          | 0/1 [00:00<?, ?it/s]"
      ]
     },
     "metadata": {},
     "output_type": "display_data"
    },
    {
     "data": {
      "application/vnd.jupyter.widget-view+json": {
       "model_id": "f816c98086424fac90f5b69d664d359c",
       "version_major": 2,
       "version_minor": 0
      },
      "text/plain": [
       "[Loading logs/samples-nhmm-train-seq-seed5.log]:   0%|          | 0/1 [00:00<?, ?it/s]"
      ]
     },
     "metadata": {},
     "output_type": "display_data"
    },
    {
     "data": {
      "application/vnd.jupyter.widget-view+json": {
       "model_id": "edc2974baacf4567a2774cbce1662515",
       "version_major": 2,
       "version_minor": 0
      },
      "text/plain": [
       "[Loading logs/samples-nhmm-train-seq-seed1.log]:   0%|          | 0/1 [00:00<?, ?it/s]"
      ]
     },
     "metadata": {},
     "output_type": "display_data"
    },
    {
     "name": "stdout",
     "output_type": "stream",
     "text": []
    },
    {
     "data": {
      "application/vnd.jupyter.widget-view+json": {
       "model_id": "f932e5bd98114e22baa172fee6cba5f6",
       "version_major": 2,
       "version_minor": 0
      },
      "text/plain": [
       "[Loading logs/samples-nhmm-train-plate-seed5.log]:   0%|          | 0/1 [00:00<?, ?it/s]"
      ]
     },
     "metadata": {},
     "output_type": "display_data"
    },
    {
     "data": {
      "application/vnd.jupyter.widget-view+json": {
       "model_id": "ee4ba874b18b42ebb6e867dd43d09849",
       "version_major": 2,
       "version_minor": 0
      },
      "text/plain": [
       "[Loading logs/samples-nhmm-train-plate-seed2.log]:   0%|          | 0/1 [00:00<?, ?it/s]"
      ]
     },
     "metadata": {},
     "output_type": "display_data"
    },
    {
     "data": {
      "application/vnd.jupyter.widget-view+json": {
       "model_id": "d314b7f35fc44e0c8fd2fedda252f0f3",
       "version_major": 2,
       "version_minor": 0
      },
      "text/plain": [
       "[Loading logs/samples-nhmm-train-plate-seed3.log]:   0%|          | 0/1 [00:00<?, ?it/s]"
      ]
     },
     "metadata": {},
     "output_type": "display_data"
    },
    {
     "data": {
      "application/vnd.jupyter.widget-view+json": {
       "model_id": "93f87ca315c548ccb931e485fd585723",
       "version_major": 2,
       "version_minor": 0
      },
      "text/plain": [
       "[Loading logs/samples-nhmm-train-plate-seed0.log]:   0%|          | 0/1 [00:00<?, ?it/s]"
      ]
     },
     "metadata": {},
     "output_type": "display_data"
    },
    {
     "data": {
      "application/vnd.jupyter.widget-view+json": {
       "model_id": "e01ad7b470584870adc2b79e73571a09",
       "version_major": 2,
       "version_minor": 0
      },
      "text/plain": [
       "[Loading logs/samples-nhmm-train-plate-seed1.log]:   0%|          | 0/1 [00:00<?, ?it/s]"
      ]
     },
     "metadata": {},
     "output_type": "display_data"
    },
    {
     "data": {
      "application/vnd.jupyter.widget-view+json": {
       "model_id": "661aa2dd12ec451c970deb0a638e6f99",
       "version_major": 2,
       "version_minor": 0
      },
      "text/plain": [
       "[Loading logs/samples-nhmm-train-plate-seed7.log]:   0%|          | 0/1 [00:00<?, ?it/s]"
      ]
     },
     "metadata": {},
     "output_type": "display_data"
    },
    {
     "data": {
      "application/vnd.jupyter.widget-view+json": {
       "model_id": "206562efeaa743f2b19bcb64de5d0439",
       "version_major": 2,
       "version_minor": 0
      },
      "text/plain": [
       "[Loading logs/samples-nhmm-train-plate-seed4.log]:   0%|          | 0/1 [00:00<?, ?it/s]"
      ]
     },
     "metadata": {},
     "output_type": "display_data"
    },
    {
     "data": {
      "application/vnd.jupyter.widget-view+json": {
       "model_id": "dc4bb70429604651bc6f7b760d1eb9a3",
       "version_major": 2,
       "version_minor": 0
      },
      "text/plain": [
       "[Loading logs/samples-nhmm-train-plate-seed6.log]:   0%|          | 0/1 [00:00<?, ?it/s]"
      ]
     },
     "metadata": {},
     "output_type": "display_data"
    },
    {
     "name": "stdout",
     "output_type": "stream",
     "text": []
    },
    {
     "data": {
      "application/vnd.jupyter.widget-view+json": {
       "model_id": "824e2cd52abe4a1babd14d94db7818bf",
       "version_major": 2,
       "version_minor": 0
      },
      "text/plain": [
       "[Loading logs/samples-nhmm-train-manual-seed3.log]:   0%|          | 0/2 [00:00<?, ?it/s]"
      ]
     },
     "metadata": {},
     "output_type": "display_data"
    },
    {
     "data": {
      "application/vnd.jupyter.widget-view+json": {
       "model_id": "f67cb99364884140a11477017ee119bf",
       "version_major": 2,
       "version_minor": 0
      },
      "text/plain": [
       "[Loading logs/samples-nhmm-train-manual-seed0.log]:   0%|          | 0/2 [00:00<?, ?it/s]"
      ]
     },
     "metadata": {},
     "output_type": "display_data"
    },
    {
     "data": {
      "application/vnd.jupyter.widget-view+json": {
       "model_id": "2c75df61ce064928b2e2cd6db411dfb1",
       "version_major": 2,
       "version_minor": 0
      },
      "text/plain": [
       "[Loading logs/samples-nhmm-train-manual-seed2.log]:   0%|          | 0/2 [00:00<?, ?it/s]"
      ]
     },
     "metadata": {},
     "output_type": "display_data"
    },
    {
     "data": {
      "application/vnd.jupyter.widget-view+json": {
       "model_id": "c976487e74894b44bbef82a6e251195d",
       "version_major": 2,
       "version_minor": 0
      },
      "text/plain": [
       "[Loading logs/samples-nhmm-train-manual-seed6.log]:   0%|          | 0/2 [00:00<?, ?it/s]"
      ]
     },
     "metadata": {},
     "output_type": "display_data"
    },
    {
     "data": {
      "application/vnd.jupyter.widget-view+json": {
       "model_id": "ea2d722d9fe74ef8958289d826231866",
       "version_major": 2,
       "version_minor": 0
      },
      "text/plain": [
       "[Loading logs/samples-nhmm-train-manual-seed1.log]:   0%|          | 0/2 [00:00<?, ?it/s]"
      ]
     },
     "metadata": {},
     "output_type": "display_data"
    },
    {
     "data": {
      "application/vnd.jupyter.widget-view+json": {
       "model_id": "a48da663877d4dc19fb6fefd9b13e9d0",
       "version_major": 2,
       "version_minor": 0
      },
      "text/plain": [
       "[Loading logs/samples-nhmm-train-manual-seed4.log]:   0%|          | 0/2 [00:00<?, ?it/s]"
      ]
     },
     "metadata": {},
     "output_type": "display_data"
    },
    {
     "data": {
      "application/vnd.jupyter.widget-view+json": {
       "model_id": "7c38bbb6fe3e4ceea41d9a5a95efa109",
       "version_major": 2,
       "version_minor": 0
      },
      "text/plain": [
       "[Loading logs/samples-nhmm-train-manual-seed7.log]:   0%|          | 0/2 [00:00<?, ?it/s]"
      ]
     },
     "metadata": {},
     "output_type": "display_data"
    },
    {
     "data": {
      "application/vnd.jupyter.widget-view+json": {
       "model_id": "d0eb1b00b5ed46f28b1b40d254e7f419",
       "version_major": 2,
       "version_minor": 0
      },
      "text/plain": [
       "[Loading logs/samples-nhmm-train-manual-seed5.log]:   0%|          | 0/2 [00:00<?, ?it/s]"
      ]
     },
     "metadata": {},
     "output_type": "display_data"
    },
    {
     "name": "stdout",
     "output_type": "stream",
     "text": []
    },
    {
     "data": {
      "application/vnd.jupyter.widget-view+json": {
       "model_id": "e32485a5bf1545a4ab09ed34fac24770",
       "version_major": 2,
       "version_minor": 0
      },
      "text/plain": [
       "[Loading logs/samples-nhmm-train-ours-seed2.log]:   0%|          | 0/1 [00:00<?, ?it/s]"
      ]
     },
     "metadata": {},
     "output_type": "display_data"
    },
    {
     "data": {
      "application/vnd.jupyter.widget-view+json": {
       "model_id": "e50aedc0fdcf463097769c3d3f7ec241",
       "version_major": 2,
       "version_minor": 0
      },
      "text/plain": [
       "[Loading logs/samples-nhmm-train-ours-seed5.log]:   0%|          | 0/1 [00:00<?, ?it/s]"
      ]
     },
     "metadata": {},
     "output_type": "display_data"
    },
    {
     "data": {
      "application/vnd.jupyter.widget-view+json": {
       "model_id": "fd79984c86fc4de9a64d60ce9d40080a",
       "version_major": 2,
       "version_minor": 0
      },
      "text/plain": [
       "[Loading logs/samples-nhmm-train-ours-seed4.log]:   0%|          | 0/1 [00:00<?, ?it/s]"
      ]
     },
     "metadata": {},
     "output_type": "display_data"
    },
    {
     "data": {
      "application/vnd.jupyter.widget-view+json": {
       "model_id": "75c9cf0aa597482da8eea3d4855bd6cb",
       "version_major": 2,
       "version_minor": 0
      },
      "text/plain": [
       "[Loading logs/samples-nhmm-train-ours-seed1.log]:   0%|          | 0/1 [00:00<?, ?it/s]"
      ]
     },
     "metadata": {},
     "output_type": "display_data"
    },
    {
     "data": {
      "application/vnd.jupyter.widget-view+json": {
       "model_id": "8ed53f84b9794e5d8501a0ccd8194e72",
       "version_major": 2,
       "version_minor": 0
      },
      "text/plain": [
       "[Loading logs/samples-nhmm-train-ours-seed3.log]:   0%|          | 0/1 [00:00<?, ?it/s]"
      ]
     },
     "metadata": {},
     "output_type": "display_data"
    },
    {
     "data": {
      "application/vnd.jupyter.widget-view+json": {
       "model_id": "30835d8bf0e545329d5c8af5c9fc67ff",
       "version_major": 2,
       "version_minor": 0
      },
      "text/plain": [
       "[Loading logs/samples-nhmm-train-ours-seed6.log]:   0%|          | 0/1 [00:00<?, ?it/s]"
      ]
     },
     "metadata": {},
     "output_type": "display_data"
    },
    {
     "data": {
      "application/vnd.jupyter.widget-view+json": {
       "model_id": "aebb367782ff4c76bca471377642eb10",
       "version_major": 2,
       "version_minor": 0
      },
      "text/plain": [
       "[Loading logs/samples-nhmm-train-ours-seed0.log]:   0%|          | 0/1 [00:00<?, ?it/s]"
      ]
     },
     "metadata": {},
     "output_type": "display_data"
    },
    {
     "data": {
      "application/vnd.jupyter.widget-view+json": {
       "model_id": "a9e92950353c42c0bcfb219af354c36b",
       "version_major": 2,
       "version_minor": 0
      },
      "text/plain": [
       "[Loading logs/samples-nhmm-train-ours-seed7.log]:   0%|          | 0/1 [00:00<?, ?it/s]"
      ]
     },
     "metadata": {},
     "output_type": "display_data"
    },
    {
     "name": "stdout",
     "output_type": "stream",
     "text": []
    },
    {
     "data": {
      "application/vnd.jupyter.widget-view+json": {
       "model_id": "8ad26b74d82645b7a67d92f1bd62c819",
       "version_major": 2,
       "version_minor": 0
      },
      "text/plain": [
       "[Loading logs/samples-nhmm-stock-seq-seed0.log]:   0%|          | 0/1 [00:00<?, ?it/s]"
      ]
     },
     "metadata": {},
     "output_type": "display_data"
    },
    {
     "data": {
      "application/vnd.jupyter.widget-view+json": {
       "model_id": "0558d32358d24b91bf8c2a9f3ad4dc7f",
       "version_major": 2,
       "version_minor": 0
      },
      "text/plain": [
       "[Loading logs/samples-nhmm-stock-seq-seed1.log]:   0%|          | 0/1 [00:00<?, ?it/s]"
      ]
     },
     "metadata": {},
     "output_type": "display_data"
    },
    {
     "data": {
      "application/vnd.jupyter.widget-view+json": {
       "model_id": "b1149c84cbe74f1e91ffbfe5c054456b",
       "version_major": 2,
       "version_minor": 0
      },
      "text/plain": [
       "[Loading logs/samples-nhmm-stock-seq-seed6.log]:   0%|          | 0/1 [00:00<?, ?it/s]"
      ]
     },
     "metadata": {},
     "output_type": "display_data"
    },
    {
     "data": {
      "application/vnd.jupyter.widget-view+json": {
       "model_id": "d54acdbf463f4942b356631f25b5589c",
       "version_major": 2,
       "version_minor": 0
      },
      "text/plain": [
       "[Loading logs/samples-nhmm-stock-seq-seed4.log]:   0%|          | 0/1 [00:00<?, ?it/s]"
      ]
     },
     "metadata": {},
     "output_type": "display_data"
    },
    {
     "data": {
      "application/vnd.jupyter.widget-view+json": {
       "model_id": "cdc2af2f7a724812b55dadbe65457cd1",
       "version_major": 2,
       "version_minor": 0
      },
      "text/plain": [
       "[Loading logs/samples-nhmm-stock-seq-seed5.log]:   0%|          | 0/1 [00:00<?, ?it/s]"
      ]
     },
     "metadata": {},
     "output_type": "display_data"
    },
    {
     "data": {
      "application/vnd.jupyter.widget-view+json": {
       "model_id": "dc0bef392b744ff084ab202bc2c85f41",
       "version_major": 2,
       "version_minor": 0
      },
      "text/plain": [
       "[Loading logs/samples-nhmm-stock-seq-seed3.log]:   0%|          | 0/1 [00:00<?, ?it/s]"
      ]
     },
     "metadata": {},
     "output_type": "display_data"
    },
    {
     "data": {
      "application/vnd.jupyter.widget-view+json": {
       "model_id": "30d5109accc4400a898926dbd4df5231",
       "version_major": 2,
       "version_minor": 0
      },
      "text/plain": [
       "[Loading logs/samples-nhmm-stock-seq-seed7.log]:   0%|          | 0/1 [00:00<?, ?it/s]"
      ]
     },
     "metadata": {},
     "output_type": "display_data"
    },
    {
     "data": {
      "application/vnd.jupyter.widget-view+json": {
       "model_id": "34c90419280b4306a96c6e681e068ccc",
       "version_major": 2,
       "version_minor": 0
      },
      "text/plain": [
       "[Loading logs/samples-nhmm-stock-seq-seed2.log]:   0%|          | 0/1 [00:00<?, ?it/s]"
      ]
     },
     "metadata": {},
     "output_type": "display_data"
    },
    {
     "name": "stdout",
     "output_type": "stream",
     "text": []
    },
    {
     "data": {
      "application/vnd.jupyter.widget-view+json": {
       "model_id": "d25aa606ff8b41708771414d70bb3eac",
       "version_major": 2,
       "version_minor": 0
      },
      "text/plain": [
       "[Loading logs/samples-nhmm-stock-plate-seed6.log]:   0%|          | 0/1 [00:00<?, ?it/s]"
      ]
     },
     "metadata": {},
     "output_type": "display_data"
    },
    {
     "data": {
      "application/vnd.jupyter.widget-view+json": {
       "model_id": "4199d7da2b154d9093a06fdda92172f4",
       "version_major": 2,
       "version_minor": 0
      },
      "text/plain": [
       "[Loading logs/samples-nhmm-stock-plate-seed2.log]:   0%|          | 0/1 [00:00<?, ?it/s]"
      ]
     },
     "metadata": {},
     "output_type": "display_data"
    },
    {
     "data": {
      "application/vnd.jupyter.widget-view+json": {
       "model_id": "f1d8e502ad1143e8ac12fb3bdf016a2c",
       "version_major": 2,
       "version_minor": 0
      },
      "text/plain": [
       "[Loading logs/samples-nhmm-stock-plate-seed5.log]:   0%|          | 0/1 [00:00<?, ?it/s]"
      ]
     },
     "metadata": {},
     "output_type": "display_data"
    },
    {
     "data": {
      "application/vnd.jupyter.widget-view+json": {
       "model_id": "3cc6adf653f94526a860e786cf03449d",
       "version_major": 2,
       "version_minor": 0
      },
      "text/plain": [
       "[Loading logs/samples-nhmm-stock-plate-seed4.log]:   0%|          | 0/1 [00:00<?, ?it/s]"
      ]
     },
     "metadata": {},
     "output_type": "display_data"
    },
    {
     "data": {
      "application/vnd.jupyter.widget-view+json": {
       "model_id": "60de26cef77c4123971eee0091582890",
       "version_major": 2,
       "version_minor": 0
      },
      "text/plain": [
       "[Loading logs/samples-nhmm-stock-plate-seed0.log]:   0%|          | 0/1 [00:00<?, ?it/s]"
      ]
     },
     "metadata": {},
     "output_type": "display_data"
    },
    {
     "data": {
      "application/vnd.jupyter.widget-view+json": {
       "model_id": "f0533df07df04ce9af1590c035944232",
       "version_major": 2,
       "version_minor": 0
      },
      "text/plain": [
       "[Loading logs/samples-nhmm-stock-plate-seed3.log]:   0%|          | 0/1 [00:00<?, ?it/s]"
      ]
     },
     "metadata": {},
     "output_type": "display_data"
    },
    {
     "data": {
      "application/vnd.jupyter.widget-view+json": {
       "model_id": "1e88ebde44a248078b703f7026418822",
       "version_major": 2,
       "version_minor": 0
      },
      "text/plain": [
       "[Loading logs/samples-nhmm-stock-plate-seed7.log]:   0%|          | 0/1 [00:00<?, ?it/s]"
      ]
     },
     "metadata": {},
     "output_type": "display_data"
    },
    {
     "data": {
      "application/vnd.jupyter.widget-view+json": {
       "model_id": "a3e26b1a94754dc4af36ebda254d44b2",
       "version_major": 2,
       "version_minor": 0
      },
      "text/plain": [
       "[Loading logs/samples-nhmm-stock-plate-seed1.log]:   0%|          | 0/1 [00:00<?, ?it/s]"
      ]
     },
     "metadata": {},
     "output_type": "display_data"
    },
    {
     "name": "stdout",
     "output_type": "stream",
     "text": []
    },
    {
     "data": {
      "application/vnd.jupyter.widget-view+json": {
       "model_id": "6a7b8154af7540629c56c3759d9ebbc3",
       "version_major": 2,
       "version_minor": 0
      },
      "text/plain": [
       "[Loading logs/samples-nhmm-stock-manual-seed4.log]:   0%|          | 0/7 [00:00<?, ?it/s]"
      ]
     },
     "metadata": {},
     "output_type": "display_data"
    },
    {
     "data": {
      "application/vnd.jupyter.widget-view+json": {
       "model_id": "b61d7fb4086349b49320c2c73cb7dc60",
       "version_major": 2,
       "version_minor": 0
      },
      "text/plain": [
       "[Loading logs/samples-nhmm-stock-manual-seed5.log]:   0%|          | 0/7 [00:00<?, ?it/s]"
      ]
     },
     "metadata": {},
     "output_type": "display_data"
    },
    {
     "data": {
      "application/vnd.jupyter.widget-view+json": {
       "model_id": "157e0962125d4066981a5d1f31f2f932",
       "version_major": 2,
       "version_minor": 0
      },
      "text/plain": [
       "[Loading logs/samples-nhmm-stock-manual-seed1.log]:   0%|          | 0/7 [00:00<?, ?it/s]"
      ]
     },
     "metadata": {},
     "output_type": "display_data"
    },
    {
     "data": {
      "application/vnd.jupyter.widget-view+json": {
       "model_id": "c6568c459d5b4f58bb30708ffd3b9027",
       "version_major": 2,
       "version_minor": 0
      },
      "text/plain": [
       "[Loading logs/samples-nhmm-stock-manual-seed6.log]:   0%|          | 0/7 [00:00<?, ?it/s]"
      ]
     },
     "metadata": {},
     "output_type": "display_data"
    },
    {
     "data": {
      "application/vnd.jupyter.widget-view+json": {
       "model_id": "a328f4322428484d9f23a09624cb05c2",
       "version_major": 2,
       "version_minor": 0
      },
      "text/plain": [
       "[Loading logs/samples-nhmm-stock-manual-seed7.log]:   0%|          | 0/7 [00:00<?, ?it/s]"
      ]
     },
     "metadata": {},
     "output_type": "display_data"
    },
    {
     "data": {
      "application/vnd.jupyter.widget-view+json": {
       "model_id": "74d079ac306a48b6ab46c5ab6f62fdf4",
       "version_major": 2,
       "version_minor": 0
      },
      "text/plain": [
       "[Loading logs/samples-nhmm-stock-manual-seed3.log]:   0%|          | 0/7 [00:00<?, ?it/s]"
      ]
     },
     "metadata": {},
     "output_type": "display_data"
    },
    {
     "data": {
      "application/vnd.jupyter.widget-view+json": {
       "model_id": "020915cb360d4adebdd8ce8198e161ba",
       "version_major": 2,
       "version_minor": 0
      },
      "text/plain": [
       "[Loading logs/samples-nhmm-stock-manual-seed0.log]:   0%|          | 0/7 [00:00<?, ?it/s]"
      ]
     },
     "metadata": {},
     "output_type": "display_data"
    },
    {
     "data": {
      "application/vnd.jupyter.widget-view+json": {
       "model_id": "35cf6527a5ad4f4db85e420d5e4dd86b",
       "version_major": 2,
       "version_minor": 0
      },
      "text/plain": [
       "[Loading logs/samples-nhmm-stock-manual-seed2.log]:   0%|          | 0/7 [00:00<?, ?it/s]"
      ]
     },
     "metadata": {},
     "output_type": "display_data"
    },
    {
     "name": "stdout",
     "output_type": "stream",
     "text": []
    },
    {
     "data": {
      "application/vnd.jupyter.widget-view+json": {
       "model_id": "3d4e47a75efe42bc85a25d5590c4f7ef",
       "version_major": 2,
       "version_minor": 0
      },
      "text/plain": [
       "[Loading logs/samples-nhmm-stock-ours-seed7.log]:   0%|          | 0/3 [00:00<?, ?it/s]"
      ]
     },
     "metadata": {},
     "output_type": "display_data"
    },
    {
     "data": {
      "application/vnd.jupyter.widget-view+json": {
       "model_id": "a7f168862df74663b01c538a12678317",
       "version_major": 2,
       "version_minor": 0
      },
      "text/plain": [
       "[Loading logs/samples-nhmm-stock-ours-seed2.log]:   0%|          | 0/3 [00:00<?, ?it/s]"
      ]
     },
     "metadata": {},
     "output_type": "display_data"
    },
    {
     "data": {
      "application/vnd.jupyter.widget-view+json": {
       "model_id": "884823b8065d4b7a8a28ddd7542c1ce1",
       "version_major": 2,
       "version_minor": 0
      },
      "text/plain": [
       "[Loading logs/samples-nhmm-stock-ours-seed1.log]:   0%|          | 0/3 [00:00<?, ?it/s]"
      ]
     },
     "metadata": {},
     "output_type": "display_data"
    },
    {
     "data": {
      "application/vnd.jupyter.widget-view+json": {
       "model_id": "911c2f96b03a484981fb0485cc663cf4",
       "version_major": 2,
       "version_minor": 0
      },
      "text/plain": [
       "[Loading logs/samples-nhmm-stock-ours-seed4.log]:   0%|          | 0/3 [00:00<?, ?it/s]"
      ]
     },
     "metadata": {},
     "output_type": "display_data"
    },
    {
     "data": {
      "application/vnd.jupyter.widget-view+json": {
       "model_id": "c48d1baeeb0a479fbdd1120419624740",
       "version_major": 2,
       "version_minor": 0
      },
      "text/plain": [
       "[Loading logs/samples-nhmm-stock-ours-seed3.log]:   0%|          | 0/3 [00:00<?, ?it/s]"
      ]
     },
     "metadata": {},
     "output_type": "display_data"
    },
    {
     "data": {
      "application/vnd.jupyter.widget-view+json": {
       "model_id": "f0cb4b42ece746f0af73412715b92662",
       "version_major": 2,
       "version_minor": 0
      },
      "text/plain": [
       "[Loading logs/samples-nhmm-stock-ours-seed0.log]:   0%|          | 0/3 [00:00<?, ?it/s]"
      ]
     },
     "metadata": {},
     "output_type": "display_data"
    },
    {
     "data": {
      "application/vnd.jupyter.widget-view+json": {
       "model_id": "4740054b9393414ba7e3dc8bc8eafd93",
       "version_major": 2,
       "version_minor": 0
      },
      "text/plain": [
       "[Loading logs/samples-nhmm-stock-ours-seed6.log]:   0%|          | 0/3 [00:00<?, ?it/s]"
      ]
     },
     "metadata": {},
     "output_type": "display_data"
    },
    {
     "data": {
      "application/vnd.jupyter.widget-view+json": {
       "model_id": "730e9fe3e6804865a4fd6dfe0d1a8bfc",
       "version_major": 2,
       "version_minor": 0
      },
      "text/plain": [
       "[Loading logs/samples-nhmm-stock-ours-seed5.log]:   0%|          | 0/3 [00:00<?, ?it/s]"
      ]
     },
     "metadata": {},
     "output_type": "display_data"
    },
    {
     "name": "stdout",
     "output_type": "stream",
     "text": []
    },
    {
     "data": {
      "application/vnd.jupyter.widget-view+json": {
       "model_id": "e71537cb22354c05863b328e3aaedb39",
       "version_major": 2,
       "version_minor": 0
      },
      "text/plain": [
       "[Loading logs/samples-arm-seq-seed3.log]:   0%|          | 0/1 [00:00<?, ?it/s]"
      ]
     },
     "metadata": {},
     "output_type": "display_data"
    },
    {
     "data": {
      "application/vnd.jupyter.widget-view+json": {
       "model_id": "db59c9ee3c7644b986ca29f08602b4e6",
       "version_major": 2,
       "version_minor": 0
      },
      "text/plain": [
       "[Loading logs/samples-arm-seq-seed1.log]:   0%|          | 0/1 [00:00<?, ?it/s]"
      ]
     },
     "metadata": {},
     "output_type": "display_data"
    },
    {
     "data": {
      "application/vnd.jupyter.widget-view+json": {
       "model_id": "d477491d19404438b368c1b47d19d9ad",
       "version_major": 2,
       "version_minor": 0
      },
      "text/plain": [
       "[Loading logs/samples-arm-seq-seed0.log]:   0%|          | 0/1 [00:00<?, ?it/s]"
      ]
     },
     "metadata": {},
     "output_type": "display_data"
    },
    {
     "data": {
      "application/vnd.jupyter.widget-view+json": {
       "model_id": "e7c8c93f48ee4748a83c9f78ea4b8853",
       "version_major": 2,
       "version_minor": 0
      },
      "text/plain": [
       "[Loading logs/samples-arm-seq-seed4.log]:   0%|          | 0/1 [00:00<?, ?it/s]"
      ]
     },
     "metadata": {},
     "output_type": "display_data"
    },
    {
     "data": {
      "application/vnd.jupyter.widget-view+json": {
       "model_id": "e1c99e90e38847e0b9f0c53d244d0254",
       "version_major": 2,
       "version_minor": 0
      },
      "text/plain": [
       "[Loading logs/samples-arm-seq-seed7.log]:   0%|          | 0/1 [00:00<?, ?it/s]"
      ]
     },
     "metadata": {},
     "output_type": "display_data"
    },
    {
     "data": {
      "application/vnd.jupyter.widget-view+json": {
       "model_id": "2585fc8920114e74936242007a1503c0",
       "version_major": 2,
       "version_minor": 0
      },
      "text/plain": [
       "[Loading logs/samples-arm-seq-seed2.log]:   0%|          | 0/1 [00:00<?, ?it/s]"
      ]
     },
     "metadata": {},
     "output_type": "display_data"
    },
    {
     "data": {
      "application/vnd.jupyter.widget-view+json": {
       "model_id": "be9b883e042d4b9186e4e863d62d6cfd",
       "version_major": 2,
       "version_minor": 0
      },
      "text/plain": [
       "[Loading logs/samples-arm-seq-seed5.log]:   0%|          | 0/1 [00:00<?, ?it/s]"
      ]
     },
     "metadata": {},
     "output_type": "display_data"
    },
    {
     "data": {
      "application/vnd.jupyter.widget-view+json": {
       "model_id": "1cf7c7ec816c4f4d83902e22770acf55",
       "version_major": 2,
       "version_minor": 0
      },
      "text/plain": [
       "[Loading logs/samples-arm-seq-seed6.log]:   0%|          | 0/1 [00:00<?, ?it/s]"
      ]
     },
     "metadata": {},
     "output_type": "display_data"
    },
    {
     "name": "stdout",
     "output_type": "stream",
     "text": []
    },
    {
     "data": {
      "application/vnd.jupyter.widget-view+json": {
       "model_id": "73ab800e3de141c3a1f5394ba716d884",
       "version_major": 2,
       "version_minor": 0
      },
      "text/plain": [
       "[Loading logs/samples-arm-vmarkov-seed0.log]:   0%|          | 0/8 [00:00<?, ?it/s]"
      ]
     },
     "metadata": {},
     "output_type": "display_data"
    },
    {
     "data": {
      "application/vnd.jupyter.widget-view+json": {
       "model_id": "2184558fde57478ea9762ff5da683863",
       "version_major": 2,
       "version_minor": 0
      },
      "text/plain": [
       "[Loading logs/samples-arm-vmarkov-seed3.log]:   0%|          | 0/8 [00:00<?, ?it/s]"
      ]
     },
     "metadata": {},
     "output_type": "display_data"
    },
    {
     "data": {
      "application/vnd.jupyter.widget-view+json": {
       "model_id": "26f7c3d5b3c84a5abc8cefacfec591d5",
       "version_major": 2,
       "version_minor": 0
      },
      "text/plain": [
       "[Loading logs/samples-arm-vmarkov-seed6.log]:   0%|          | 0/8 [00:00<?, ?it/s]"
      ]
     },
     "metadata": {},
     "output_type": "display_data"
    },
    {
     "data": {
      "application/vnd.jupyter.widget-view+json": {
       "model_id": "da6e4266b5c641e29d29525f392f5a5a",
       "version_major": 2,
       "version_minor": 0
      },
      "text/plain": [
       "[Loading logs/samples-arm-vmarkov-seed2.log]:   0%|          | 0/8 [00:00<?, ?it/s]"
      ]
     },
     "metadata": {},
     "output_type": "display_data"
    },
    {
     "data": {
      "application/vnd.jupyter.widget-view+json": {
       "model_id": "544273ecb00d4048b8ed647ef40ad2b3",
       "version_major": 2,
       "version_minor": 0
      },
      "text/plain": [
       "[Loading logs/samples-arm-vmarkov-seed7.log]:   0%|          | 0/8 [00:00<?, ?it/s]"
      ]
     },
     "metadata": {},
     "output_type": "display_data"
    },
    {
     "data": {
      "application/vnd.jupyter.widget-view+json": {
       "model_id": "a53495995ee2443490a196839c5d71c7",
       "version_major": 2,
       "version_minor": 0
      },
      "text/plain": [
       "[Loading logs/samples-arm-vmarkov-seed5.log]:   0%|          | 0/8 [00:00<?, ?it/s]"
      ]
     },
     "metadata": {},
     "output_type": "display_data"
    },
    {
     "data": {
      "application/vnd.jupyter.widget-view+json": {
       "model_id": "afc456ef24e14328b77b3dbbcef70baa",
       "version_major": 2,
       "version_minor": 0
      },
      "text/plain": [
       "[Loading logs/samples-arm-vmarkov-seed4.log]:   0%|          | 0/8 [00:00<?, ?it/s]"
      ]
     },
     "metadata": {},
     "output_type": "display_data"
    },
    {
     "data": {
      "application/vnd.jupyter.widget-view+json": {
       "model_id": "127fd9fde7f94403b027226e2a6477d2",
       "version_major": 2,
       "version_minor": 0
      },
      "text/plain": [
       "[Loading logs/samples-arm-vmarkov-seed1.log]:   0%|          | 0/8 [00:00<?, ?it/s]"
      ]
     },
     "metadata": {},
     "output_type": "display_data"
    },
    {
     "name": "stdout",
     "output_type": "stream",
     "text": []
    },
    {
     "data": {
      "application/vnd.jupyter.widget-view+json": {
       "model_id": "12d9c64995cf425caa7a960e30d6b439",
       "version_major": 2,
       "version_minor": 0
      },
      "text/plain": [
       "[Loading logs/samples-arm-manual-seed4.log]:   0%|          | 0/73 [00:00<?, ?it/s]"
      ]
     },
     "metadata": {},
     "output_type": "display_data"
    },
    {
     "data": {
      "application/vnd.jupyter.widget-view+json": {
       "model_id": "f990858185bc4c6e9a32bc2d29b36641",
       "version_major": 2,
       "version_minor": 0
      },
      "text/plain": [
       "[Loading logs/samples-arm-manual-seed3.log]:   0%|          | 0/72 [00:00<?, ?it/s]"
      ]
     },
     "metadata": {},
     "output_type": "display_data"
    },
    {
     "data": {
      "application/vnd.jupyter.widget-view+json": {
       "model_id": "017b36a74d3c49e591d0262e4b2c3861",
       "version_major": 2,
       "version_minor": 0
      },
      "text/plain": [
       "[Loading logs/samples-arm-manual-seed1.log]:   0%|          | 0/72 [00:00<?, ?it/s]"
      ]
     },
     "metadata": {},
     "output_type": "display_data"
    },
    {
     "data": {
      "application/vnd.jupyter.widget-view+json": {
       "model_id": "fd3b4355180247bf834276e3713f8877",
       "version_major": 2,
       "version_minor": 0
      },
      "text/plain": [
       "[Loading logs/samples-arm-manual-seed7.log]:   0%|          | 0/73 [00:00<?, ?it/s]"
      ]
     },
     "metadata": {},
     "output_type": "display_data"
    },
    {
     "data": {
      "application/vnd.jupyter.widget-view+json": {
       "model_id": "ad1705431206483089cb02fd5d82fb5f",
       "version_major": 2,
       "version_minor": 0
      },
      "text/plain": [
       "[Loading logs/samples-arm-manual-seed5.log]:   0%|          | 0/76 [00:00<?, ?it/s]"
      ]
     },
     "metadata": {},
     "output_type": "display_data"
    },
    {
     "data": {
      "application/vnd.jupyter.widget-view+json": {
       "model_id": "6a7d9eda43594ff19a51da1256862fe0",
       "version_major": 2,
       "version_minor": 0
      },
      "text/plain": [
       "[Loading logs/samples-arm-manual-seed0.log]:   0%|          | 0/76 [00:00<?, ?it/s]"
      ]
     },
     "metadata": {},
     "output_type": "display_data"
    },
    {
     "data": {
      "application/vnd.jupyter.widget-view+json": {
       "model_id": "3cf7d83208ff4f56890d14489f1bae66",
       "version_major": 2,
       "version_minor": 0
      },
      "text/plain": [
       "[Loading logs/samples-arm-manual-seed6.log]:   0%|          | 0/75 [00:00<?, ?it/s]"
      ]
     },
     "metadata": {},
     "output_type": "display_data"
    },
    {
     "data": {
      "application/vnd.jupyter.widget-view+json": {
       "model_id": "f7efe0f4ee494af495857f12658e6c93",
       "version_major": 2,
       "version_minor": 0
      },
      "text/plain": [
       "[Loading logs/samples-arm-manual-seed2.log]:   0%|          | 0/75 [00:00<?, ?it/s]"
      ]
     },
     "metadata": {},
     "output_type": "display_data"
    },
    {
     "name": "stdout",
     "output_type": "stream",
     "text": []
    },
    {
     "data": {
      "application/vnd.jupyter.widget-view+json": {
       "model_id": "84f0b5e731e84d3f942f3608d1cc6f5f",
       "version_major": 2,
       "version_minor": 0
      },
      "text/plain": [
       "[Loading logs/samples-arm-ours-seed2.log]:   0%|          | 0/19 [00:00<?, ?it/s]"
      ]
     },
     "metadata": {},
     "output_type": "display_data"
    },
    {
     "data": {
      "application/vnd.jupyter.widget-view+json": {
       "model_id": "5bb76e32a7b84c7da4212b90b55456f3",
       "version_major": 2,
       "version_minor": 0
      },
      "text/plain": [
       "[Loading logs/samples-arm-ours-seed7.log]:   0%|          | 0/19 [00:00<?, ?it/s]"
      ]
     },
     "metadata": {},
     "output_type": "display_data"
    },
    {
     "data": {
      "application/vnd.jupyter.widget-view+json": {
       "model_id": "12dac5c76b324ebf9dcdceb6acc1b2d2",
       "version_major": 2,
       "version_minor": 0
      },
      "text/plain": [
       "[Loading logs/samples-arm-ours-seed0.log]:   0%|          | 0/20 [00:00<?, ?it/s]"
      ]
     },
     "metadata": {},
     "output_type": "display_data"
    },
    {
     "data": {
      "application/vnd.jupyter.widget-view+json": {
       "model_id": "d52324b5e30749119d54289431fa401c",
       "version_major": 2,
       "version_minor": 0
      },
      "text/plain": [
       "[Loading logs/samples-arm-ours-seed3.log]:   0%|          | 0/19 [00:00<?, ?it/s]"
      ]
     },
     "metadata": {},
     "output_type": "display_data"
    },
    {
     "data": {
      "application/vnd.jupyter.widget-view+json": {
       "model_id": "79d8a9c446a5456d8a7f2953a3d00d18",
       "version_major": 2,
       "version_minor": 0
      },
      "text/plain": [
       "[Loading logs/samples-arm-ours-seed5.log]:   0%|          | 0/19 [00:00<?, ?it/s]"
      ]
     },
     "metadata": {},
     "output_type": "display_data"
    },
    {
     "data": {
      "application/vnd.jupyter.widget-view+json": {
       "model_id": "55c10b17024441f9a424e40248e85601",
       "version_major": 2,
       "version_minor": 0
      },
      "text/plain": [
       "[Loading logs/samples-arm-ours-seed6.log]:   0%|          | 0/20 [00:00<?, ?it/s]"
      ]
     },
     "metadata": {},
     "output_type": "display_data"
    },
    {
     "data": {
      "application/vnd.jupyter.widget-view+json": {
       "model_id": "e2e167f4dfce47feb2f8a8d4090f1c5c",
       "version_major": 2,
       "version_minor": 0
      },
      "text/plain": [
       "[Loading logs/samples-arm-ours-seed4.log]:   0%|          | 0/20 [00:00<?, ?it/s]"
      ]
     },
     "metadata": {},
     "output_type": "display_data"
    },
    {
     "data": {
      "application/vnd.jupyter.widget-view+json": {
       "model_id": "b9ae96fb3f68421380ebd03c8f4c3c5f",
       "version_major": 2,
       "version_minor": 0
      },
      "text/plain": [
       "[Loading logs/samples-arm-ours-seed1.log]:   0%|          | 0/19 [00:00<?, ?it/s]"
      ]
     },
     "metadata": {},
     "output_type": "display_data"
    },
    {
     "name": "stdout",
     "output_type": "stream",
     "text": []
    },
    {
     "data": {
      "application/vnd.jupyter.widget-view+json": {
       "model_id": "e9fada5c41ef4af6a396aa4127d8ed21",
       "version_major": 2,
       "version_minor": 0
      },
      "text/plain": [
       "[Loading logs/samples-tcm-seq-seed3.log]:   0%|          | 0/1 [00:00<?, ?it/s]"
      ]
     },
     "metadata": {},
     "output_type": "display_data"
    },
    {
     "data": {
      "application/vnd.jupyter.widget-view+json": {
       "model_id": "7d0e13fd662d4424a094ab235a87a097",
       "version_major": 2,
       "version_minor": 0
      },
      "text/plain": [
       "[Loading logs/samples-tcm-seq-seed0.log]:   0%|          | 0/1 [00:00<?, ?it/s]"
      ]
     },
     "metadata": {},
     "output_type": "display_data"
    },
    {
     "data": {
      "application/vnd.jupyter.widget-view+json": {
       "model_id": "a44f618931ce4dfaa526c608d40be6c0",
       "version_major": 2,
       "version_minor": 0
      },
      "text/plain": [
       "[Loading logs/samples-tcm-seq-seed1.log]:   0%|          | 0/1 [00:00<?, ?it/s]"
      ]
     },
     "metadata": {},
     "output_type": "display_data"
    },
    {
     "data": {
      "application/vnd.jupyter.widget-view+json": {
       "model_id": "9a91046e26404b6eb66cf29a974ab031",
       "version_major": 2,
       "version_minor": 0
      },
      "text/plain": [
       "[Loading logs/samples-tcm-seq-seed6.log]:   0%|          | 0/1 [00:00<?, ?it/s]"
      ]
     },
     "metadata": {},
     "output_type": "display_data"
    },
    {
     "data": {
      "application/vnd.jupyter.widget-view+json": {
       "model_id": "4c43f03fa9b749b7a02cb428c3f934f1",
       "version_major": 2,
       "version_minor": 0
      },
      "text/plain": [
       "[Loading logs/samples-tcm-seq-seed7.log]:   0%|          | 0/1 [00:00<?, ?it/s]"
      ]
     },
     "metadata": {},
     "output_type": "display_data"
    },
    {
     "data": {
      "application/vnd.jupyter.widget-view+json": {
       "model_id": "7c19e33b5fb249f4bdc79f6f8e08b417",
       "version_major": 2,
       "version_minor": 0
      },
      "text/plain": [
       "[Loading logs/samples-tcm-seq-seed5.log]:   0%|          | 0/1 [00:00<?, ?it/s]"
      ]
     },
     "metadata": {},
     "output_type": "display_data"
    },
    {
     "data": {
      "application/vnd.jupyter.widget-view+json": {
       "model_id": "402aa90d303346e092d732c3173adcc2",
       "version_major": 2,
       "version_minor": 0
      },
      "text/plain": [
       "[Loading logs/samples-tcm-seq-seed2.log]:   0%|          | 0/1 [00:00<?, ?it/s]"
      ]
     },
     "metadata": {},
     "output_type": "display_data"
    },
    {
     "data": {
      "application/vnd.jupyter.widget-view+json": {
       "model_id": "5e52d69ca00a4a938f487ba1dd7966f6",
       "version_major": 2,
       "version_minor": 0
      },
      "text/plain": [
       "[Loading logs/samples-tcm-seq-seed4.log]:   0%|          | 0/1 [00:00<?, ?it/s]"
      ]
     },
     "metadata": {},
     "output_type": "display_data"
    },
    {
     "name": "stdout",
     "output_type": "stream",
     "text": []
    },
    {
     "data": {
      "application/vnd.jupyter.widget-view+json": {
       "model_id": "d9ee206246414a0496a7926d069f2dde",
       "version_major": 2,
       "version_minor": 0
      },
      "text/plain": [
       "[Loading logs/samples-tcm-ours-seed6.log]:   0%|          | 0/9 [00:00<?, ?it/s]"
      ]
     },
     "metadata": {},
     "output_type": "display_data"
    },
    {
     "data": {
      "application/vnd.jupyter.widget-view+json": {
       "model_id": "c29c3853babd4411bdb813b89f91b988",
       "version_major": 2,
       "version_minor": 0
      },
      "text/plain": [
       "[Loading logs/samples-tcm-ours-seed4.log]:   0%|          | 0/9 [00:00<?, ?it/s]"
      ]
     },
     "metadata": {},
     "output_type": "display_data"
    },
    {
     "data": {
      "application/vnd.jupyter.widget-view+json": {
       "model_id": "b1815cb7d1884281b2bcb7360b6096dd",
       "version_major": 2,
       "version_minor": 0
      },
      "text/plain": [
       "[Loading logs/samples-tcm-ours-seed7.log]:   0%|          | 0/9 [00:00<?, ?it/s]"
      ]
     },
     "metadata": {},
     "output_type": "display_data"
    },
    {
     "data": {
      "application/vnd.jupyter.widget-view+json": {
       "model_id": "ccd3c4483ec3471ebd414834c8c092f0",
       "version_major": 2,
       "version_minor": 0
      },
      "text/plain": [
       "[Loading logs/samples-tcm-ours-seed3.log]:   0%|          | 0/9 [00:00<?, ?it/s]"
      ]
     },
     "metadata": {},
     "output_type": "display_data"
    },
    {
     "data": {
      "application/vnd.jupyter.widget-view+json": {
       "model_id": "7b890539d3e94f8c8b21bf2861e38303",
       "version_major": 2,
       "version_minor": 0
      },
      "text/plain": [
       "[Loading logs/samples-tcm-ours-seed1.log]:   0%|          | 0/9 [00:00<?, ?it/s]"
      ]
     },
     "metadata": {},
     "output_type": "display_data"
    },
    {
     "data": {
      "application/vnd.jupyter.widget-view+json": {
       "model_id": "dfcb50ca08694bfeab35aa1dfac0bda9",
       "version_major": 2,
       "version_minor": 0
      },
      "text/plain": [
       "[Loading logs/samples-tcm-ours-seed5.log]:   0%|          | 0/9 [00:00<?, ?it/s]"
      ]
     },
     "metadata": {},
     "output_type": "display_data"
    },
    {
     "data": {
      "application/vnd.jupyter.widget-view+json": {
       "model_id": "0aef20a7b5f240b785a1e47c831f729e",
       "version_major": 2,
       "version_minor": 0
      },
      "text/plain": [
       "[Loading logs/samples-tcm-ours-seed0.log]:   0%|          | 0/10 [00:00<?, ?it/s]"
      ]
     },
     "metadata": {},
     "output_type": "display_data"
    },
    {
     "data": {
      "application/vnd.jupyter.widget-view+json": {
       "model_id": "7f1f68b0e9e24392a64ea2d76ca2e00c",
       "version_major": 2,
       "version_minor": 0
      },
      "text/plain": [
       "[Loading logs/samples-tcm-ours-seed2.log]:   0%|          | 0/9 [00:00<?, ?it/s]"
      ]
     },
     "metadata": {},
     "output_type": "display_data"
    }
   ],
   "source": [
    "num_seeds = 8\n",
    "\n",
    "benchmarks = [\"hmm-ord1\", \"hmm-ord2\", \"nhmm-train\", \"nhmm-stock\", \"arm\", \"tcm\"]\n",
    "methods = [\"seq\", \"plate\", \"vmarkov\", \"discHMM\", \"manual\", \"ours\"]\n",
    "\n",
    "if locals().get('total_samples_mean') is None \\\n",
    "    or locals().get('total_samples_std') is None \\\n",
    "    or locals().get('total_samples_ratio') is None:\n",
    "\n",
    "    total_time_mean = pd.DataFrame()\n",
    "    total_time_std = pd.DataFrame()\n",
    "    total_memory_mean = pd.DataFrame()\n",
    "    total_memory_std = pd.DataFrame()\n",
    "\n",
    "    for benchmark in tqdm(benchmarks):\n",
    "        time_mean = []\n",
    "        time_std = []\n",
    "        memory_mean = []\n",
    "        memory_std = []\n",
    "\n",
    "        for method in methods:\n",
    "            try:\n",
    "                time, memory = compute_time_and_memory(benchmark, method, num_seeds)\n",
    "\n",
    "                try:\n",
    "                    time_mean.append(time.mean())\n",
    "                except ZeroDivisionError:\n",
    "                    time_mean.append(float('nan'))\n",
    "\n",
    "                try:\n",
    "                    time_std.append(time.std())\n",
    "                except ZeroDivisionError:\n",
    "                    time_std.append(float('nan'))\n",
    "\n",
    "                try:\n",
    "                    memory_mean.append(memory.mean())\n",
    "                except ZeroDivisionError:\n",
    "                    memory_mean.append(float('nan'))\n",
    "\n",
    "                try:\n",
    "                    memory_std.append(memory.std())\n",
    "                except ZeroDivisionError:\n",
    "                    memory_std.append(float('nan'))\n",
    "\n",
    "            except FileNotFoundError as e:\n",
    "                time_mean.append(float('nan'))\n",
    "                time_std.append(float('nan'))\n",
    "                memory_mean.append(float('nan'))\n",
    "                memory_std.append(float('nan'))\n",
    "\n",
    "        total_time_mean = pd.concat([total_time_mean, pd.DataFrame([time_mean])], axis=0)\n",
    "        total_time_std = pd.concat([total_time_std, pd.DataFrame([time_std])], axis=0)\n",
    "        total_memory_mean = pd.concat([total_memory_mean, pd.DataFrame([memory_mean])], axis=0)\n",
    "        total_memory_std = pd.concat([total_memory_std, pd.DataFrame([memory_std])], axis=0)\n",
    "\n",
    "    for l in [total_time_mean, total_time_std, total_memory_mean, total_memory_std]:\n",
    "        l.index = benchmarks\n",
    "        l.columns = methods\n",
    "\n",
    "    total_time_ratio = total_time_mean.div(total_time_mean['ours'], axis=0)\n",
    "    total_memory_ratio = total_memory_mean.div(total_memory_mean['ours'], axis=0)"
   ]
  },
  {
   "cell_type": "code",
   "execution_count": 6,
   "id": "507aabcb",
   "metadata": {},
   "outputs": [
    {
     "data": {
      "text/html": [
       "<div>\n",
       "<style scoped>\n",
       "    .dataframe tbody tr th:only-of-type {\n",
       "        vertical-align: middle;\n",
       "    }\n",
       "\n",
       "    .dataframe tbody tr th {\n",
       "        vertical-align: top;\n",
       "    }\n",
       "\n",
       "    .dataframe thead th {\n",
       "        text-align: right;\n",
       "    }\n",
       "</style>\n",
       "<table border=\"1\" class=\"dataframe\">\n",
       "  <thead>\n",
       "    <tr style=\"text-align: right;\">\n",
       "      <th></th>\n",
       "      <th>seq</th>\n",
       "      <th>plate</th>\n",
       "      <th>vmarkov</th>\n",
       "      <th>discHMM</th>\n",
       "      <th>manual</th>\n",
       "      <th>ours</th>\n",
       "    </tr>\n",
       "  </thead>\n",
       "  <tbody>\n",
       "    <tr>\n",
       "      <th>hmm-ord1</th>\n",
       "      <td>NaN</td>\n",
       "      <td>1.872</td>\n",
       "      <td>0.844</td>\n",
       "      <td>0.223</td>\n",
       "      <td>0.399</td>\n",
       "      <td>0.786</td>\n",
       "    </tr>\n",
       "    <tr>\n",
       "      <th>hmm-ord2</th>\n",
       "      <td>1868.995</td>\n",
       "      <td>2.826</td>\n",
       "      <td>2.734</td>\n",
       "      <td>NaN</td>\n",
       "      <td>1.238</td>\n",
       "      <td>1.545</td>\n",
       "    </tr>\n",
       "    <tr>\n",
       "      <th>nhmm-train</th>\n",
       "      <td>1232.830</td>\n",
       "      <td>245.348</td>\n",
       "      <td>NaN</td>\n",
       "      <td>NaN</td>\n",
       "      <td>2.512</td>\n",
       "      <td>3.738</td>\n",
       "    </tr>\n",
       "    <tr>\n",
       "      <th>nhmm-stock</th>\n",
       "      <td>510.519</td>\n",
       "      <td>52.833</td>\n",
       "      <td>NaN</td>\n",
       "      <td>NaN</td>\n",
       "      <td>0.560</td>\n",
       "      <td>1.439</td>\n",
       "    </tr>\n",
       "    <tr>\n",
       "      <th>arm</th>\n",
       "      <td>21.952</td>\n",
       "      <td>NaN</td>\n",
       "      <td>0.489</td>\n",
       "      <td>NaN</td>\n",
       "      <td>0.049</td>\n",
       "      <td>0.191</td>\n",
       "    </tr>\n",
       "    <tr>\n",
       "      <th>tcm</th>\n",
       "      <td>28.087</td>\n",
       "      <td>NaN</td>\n",
       "      <td>NaN</td>\n",
       "      <td>NaN</td>\n",
       "      <td>NaN</td>\n",
       "      <td>0.417</td>\n",
       "    </tr>\n",
       "  </tbody>\n",
       "</table>\n",
       "</div>"
      ],
      "text/plain": [
       "                 seq    plate  vmarkov  discHMM  manual   ours\n",
       "hmm-ord1         NaN    1.872    0.844    0.223   0.399  0.786\n",
       "hmm-ord2    1868.995    2.826    2.734      NaN   1.238  1.545\n",
       "nhmm-train  1232.830  245.348      NaN      NaN   2.512  3.738\n",
       "nhmm-stock   510.519   52.833      NaN      NaN   0.560  1.439\n",
       "arm           21.952      NaN    0.489      NaN   0.049  0.191\n",
       "tcm           28.087      NaN      NaN      NaN     NaN  0.417"
      ]
     },
     "metadata": {},
     "output_type": "display_data"
    },
    {
     "data": {
      "text/html": [
       "<div>\n",
       "<style scoped>\n",
       "    .dataframe tbody tr th:only-of-type {\n",
       "        vertical-align: middle;\n",
       "    }\n",
       "\n",
       "    .dataframe tbody tr th {\n",
       "        vertical-align: top;\n",
       "    }\n",
       "\n",
       "    .dataframe thead th {\n",
       "        text-align: right;\n",
       "    }\n",
       "</style>\n",
       "<table border=\"1\" class=\"dataframe\">\n",
       "  <thead>\n",
       "    <tr style=\"text-align: right;\">\n",
       "      <th></th>\n",
       "      <th>seq</th>\n",
       "      <th>plate</th>\n",
       "      <th>vmarkov</th>\n",
       "      <th>discHMM</th>\n",
       "      <th>manual</th>\n",
       "      <th>ours</th>\n",
       "    </tr>\n",
       "  </thead>\n",
       "  <tbody>\n",
       "    <tr>\n",
       "      <th>hmm-ord1</th>\n",
       "      <td>NaN</td>\n",
       "      <td>2.383</td>\n",
       "      <td>1.074</td>\n",
       "      <td>0.284</td>\n",
       "      <td>0.507</td>\n",
       "      <td>1.0</td>\n",
       "    </tr>\n",
       "    <tr>\n",
       "      <th>hmm-ord2</th>\n",
       "      <td>1209.649</td>\n",
       "      <td>1.829</td>\n",
       "      <td>1.769</td>\n",
       "      <td>NaN</td>\n",
       "      <td>0.801</td>\n",
       "      <td>1.0</td>\n",
       "    </tr>\n",
       "    <tr>\n",
       "      <th>nhmm-train</th>\n",
       "      <td>329.769</td>\n",
       "      <td>65.628</td>\n",
       "      <td>NaN</td>\n",
       "      <td>NaN</td>\n",
       "      <td>0.672</td>\n",
       "      <td>1.0</td>\n",
       "    </tr>\n",
       "    <tr>\n",
       "      <th>nhmm-stock</th>\n",
       "      <td>354.730</td>\n",
       "      <td>36.710</td>\n",
       "      <td>NaN</td>\n",
       "      <td>NaN</td>\n",
       "      <td>0.389</td>\n",
       "      <td>1.0</td>\n",
       "    </tr>\n",
       "    <tr>\n",
       "      <th>arm</th>\n",
       "      <td>114.806</td>\n",
       "      <td>NaN</td>\n",
       "      <td>2.557</td>\n",
       "      <td>NaN</td>\n",
       "      <td>0.256</td>\n",
       "      <td>1.0</td>\n",
       "    </tr>\n",
       "    <tr>\n",
       "      <th>tcm</th>\n",
       "      <td>67.277</td>\n",
       "      <td>NaN</td>\n",
       "      <td>NaN</td>\n",
       "      <td>NaN</td>\n",
       "      <td>NaN</td>\n",
       "      <td>1.0</td>\n",
       "    </tr>\n",
       "  </tbody>\n",
       "</table>\n",
       "</div>"
      ],
      "text/plain": [
       "                 seq   plate  vmarkov  discHMM  manual  ours\n",
       "hmm-ord1         NaN   2.383    1.074    0.284   0.507   1.0\n",
       "hmm-ord2    1209.649   1.829    1.769      NaN   0.801   1.0\n",
       "nhmm-train   329.769  65.628      NaN      NaN   0.672   1.0\n",
       "nhmm-stock   354.730  36.710      NaN      NaN   0.389   1.0\n",
       "arm          114.806     NaN    2.557      NaN   0.256   1.0\n",
       "tcm           67.277     NaN      NaN      NaN     NaN   1.0"
      ]
     },
     "metadata": {},
     "output_type": "display_data"
    },
    {
     "data": {
      "text/html": [
       "<div>\n",
       "<style scoped>\n",
       "    .dataframe tbody tr th:only-of-type {\n",
       "        vertical-align: middle;\n",
       "    }\n",
       "\n",
       "    .dataframe tbody tr th {\n",
       "        vertical-align: top;\n",
       "    }\n",
       "\n",
       "    .dataframe thead th {\n",
       "        text-align: right;\n",
       "    }\n",
       "</style>\n",
       "<table border=\"1\" class=\"dataframe\">\n",
       "  <thead>\n",
       "    <tr style=\"text-align: right;\">\n",
       "      <th></th>\n",
       "      <th>seq</th>\n",
       "      <th>plate</th>\n",
       "      <th>vmarkov</th>\n",
       "      <th>discHMM</th>\n",
       "      <th>manual</th>\n",
       "      <th>ours</th>\n",
       "    </tr>\n",
       "  </thead>\n",
       "  <tbody>\n",
       "    <tr>\n",
       "      <th>hmm-ord1</th>\n",
       "      <td>NaN</td>\n",
       "      <td>0.093</td>\n",
       "      <td>0.020</td>\n",
       "      <td>0.016</td>\n",
       "      <td>0.020</td>\n",
       "      <td>0.027</td>\n",
       "    </tr>\n",
       "    <tr>\n",
       "      <th>hmm-ord2</th>\n",
       "      <td>84.462</td>\n",
       "      <td>0.176</td>\n",
       "      <td>0.100</td>\n",
       "      <td>NaN</td>\n",
       "      <td>0.067</td>\n",
       "      <td>0.096</td>\n",
       "    </tr>\n",
       "    <tr>\n",
       "      <th>nhmm-train</th>\n",
       "      <td>38.036</td>\n",
       "      <td>6.592</td>\n",
       "      <td>NaN</td>\n",
       "      <td>NaN</td>\n",
       "      <td>0.036</td>\n",
       "      <td>0.081</td>\n",
       "    </tr>\n",
       "    <tr>\n",
       "      <th>nhmm-stock</th>\n",
       "      <td>30.262</td>\n",
       "      <td>2.965</td>\n",
       "      <td>NaN</td>\n",
       "      <td>NaN</td>\n",
       "      <td>0.035</td>\n",
       "      <td>0.078</td>\n",
       "    </tr>\n",
       "    <tr>\n",
       "      <th>arm</th>\n",
       "      <td>0.902</td>\n",
       "      <td>NaN</td>\n",
       "      <td>0.069</td>\n",
       "      <td>NaN</td>\n",
       "      <td>0.004</td>\n",
       "      <td>0.018</td>\n",
       "    </tr>\n",
       "    <tr>\n",
       "      <th>tcm</th>\n",
       "      <td>0.859</td>\n",
       "      <td>NaN</td>\n",
       "      <td>NaN</td>\n",
       "      <td>NaN</td>\n",
       "      <td>NaN</td>\n",
       "      <td>0.027</td>\n",
       "    </tr>\n",
       "  </tbody>\n",
       "</table>\n",
       "</div>"
      ],
      "text/plain": [
       "               seq  plate  vmarkov  discHMM  manual   ours\n",
       "hmm-ord1       NaN  0.093    0.020    0.016   0.020  0.027\n",
       "hmm-ord2    84.462  0.176    0.100      NaN   0.067  0.096\n",
       "nhmm-train  38.036  6.592      NaN      NaN   0.036  0.081\n",
       "nhmm-stock  30.262  2.965      NaN      NaN   0.035  0.078\n",
       "arm          0.902    NaN    0.069      NaN   0.004  0.018\n",
       "tcm          0.859    NaN      NaN      NaN     NaN  0.027"
      ]
     },
     "metadata": {},
     "output_type": "display_data"
    },
    {
     "name": "stdout",
     "output_type": "stream",
     "text": [
      "\\begin{tabular}{lrrrrrr}\n",
      "\\toprule\n",
      " & seq & plate & vmarkov & discHMM & manual & ours \\\\\n",
      "\\midrule\n",
      "\\textbf{hmm-ord1} & - & 1.872 & 0.844 & 0.223 & 0.399 & 0.786 \\\\\n",
      "\\textbf{hmm-ord2} & 1868.995 & 2.826 & 2.734 & - & 1.238 & 1.545 \\\\\n",
      "\\textbf{nhmm-train} & 1232.830 & 245.348 & - & - & 2.512 & 3.738 \\\\\n",
      "\\textbf{nhmm-stock} & 510.519 & 52.833 & - & - & 0.560 & 1.439 \\\\\n",
      "\\textbf{arm} & 21.952 & - & 0.489 & - & 0.049 & 0.191 \\\\\n",
      "\\textbf{tcm} & 28.087 & - & - & - & - & 0.417 \\\\\n",
      "\\bottomrule\n",
      "\\end{tabular}\n",
      "\n",
      "\\begin{tabular}{lrrrrrr}\n",
      "\\toprule\n",
      " & seq & plate & vmarkov & discHMM & manual & ours \\\\\n",
      "\\midrule\n",
      "\\textbf{hmm-ord1} & - & 2.383 & 1.074 & 0.284 & 0.507 & 1.000 \\\\\n",
      "\\textbf{hmm-ord2} & 1209.649 & 1.829 & 1.769 & - & 0.801 & 1.000 \\\\\n",
      "\\textbf{nhmm-train} & 329.769 & 65.628 & - & - & 0.672 & 1.000 \\\\\n",
      "\\textbf{nhmm-stock} & 354.730 & 36.710 & - & - & 0.389 & 1.000 \\\\\n",
      "\\textbf{arm} & 114.806 & - & 2.557 & - & 0.256 & 1.000 \\\\\n",
      "\\textbf{tcm} & 67.277 & - & - & - & - & 1.000 \\\\\n",
      "\\bottomrule\n",
      "\\end{tabular}\n",
      "\n",
      "\\begin{tabular}{lrrrrrr}\n",
      "\\toprule\n",
      " & seq & plate & vmarkov & discHMM & manual & ours \\\\\n",
      "\\midrule\n",
      "\\textbf{hmm-ord1} & - & 0.093 & 0.020 & 0.016 & 0.020 & 0.027 \\\\\n",
      "\\textbf{hmm-ord2} & 84.462 & 0.176 & 0.100 & - & 0.067 & 0.096 \\\\\n",
      "\\textbf{nhmm-train} & 38.036 & 6.592 & - & - & 0.036 & 0.081 \\\\\n",
      "\\textbf{nhmm-stock} & 30.262 & 2.965 & - & - & 0.035 & 0.078 \\\\\n",
      "\\textbf{arm} & 0.902 & - & 0.069 & - & 0.004 & 0.018 \\\\\n",
      "\\textbf{tcm} & 0.859 & - & - & - & - & 0.027 \\\\\n",
      "\\bottomrule\n",
      "\\end{tabular}\n",
      "\n",
      "4582.5220380807405\n"
     ]
    }
   ],
   "source": [
    "display(total_time_mean.round(3))\n",
    "display(total_time_ratio.round(3))\n",
    "display(total_time_std.round(3))\n",
    "\n",
    "print(total_time_mean.to_latex(formatters=[lambda x: f\"{x:.3f}\"]*len(total_time_mean.columns), na_rep=\"-\", bold_rows=True))\n",
    "print(total_time_ratio.to_latex(formatters=[lambda x: f\"{x:.3f}\"]*len(total_time_ratio.columns), na_rep=\"-\", bold_rows=True))\n",
    "print(total_time_std.to_latex(formatters=[lambda x: f\"{x:.3f}\"]*len(total_time_std.columns), na_rep=\"-\", bold_rows=True))\n",
    "\n",
    "print(3600 / total_time_mean[\"ours\"][\"hmm-ord1\"])"
   ]
  },
  {
   "cell_type": "code",
   "execution_count": 7,
   "id": "0d0625cc",
   "metadata": {},
   "outputs": [
    {
     "data": {
      "text/html": [
       "<div>\n",
       "<style scoped>\n",
       "    .dataframe tbody tr th:only-of-type {\n",
       "        vertical-align: middle;\n",
       "    }\n",
       "\n",
       "    .dataframe tbody tr th {\n",
       "        vertical-align: top;\n",
       "    }\n",
       "\n",
       "    .dataframe thead th {\n",
       "        text-align: right;\n",
       "    }\n",
       "</style>\n",
       "<table border=\"1\" class=\"dataframe\">\n",
       "  <thead>\n",
       "    <tr style=\"text-align: right;\">\n",
       "      <th></th>\n",
       "      <th>seq</th>\n",
       "      <th>plate</th>\n",
       "      <th>vmarkov</th>\n",
       "      <th>discHMM</th>\n",
       "      <th>manual</th>\n",
       "      <th>ours</th>\n",
       "    </tr>\n",
       "  </thead>\n",
       "  <tbody>\n",
       "    <tr>\n",
       "      <th>hmm-ord1</th>\n",
       "      <td>NaN</td>\n",
       "      <td>0.7000</td>\n",
       "      <td>1.2663</td>\n",
       "      <td>0.2464</td>\n",
       "      <td>0.6681</td>\n",
       "      <td>1.3834</td>\n",
       "    </tr>\n",
       "    <tr>\n",
       "      <th>hmm-ord2</th>\n",
       "      <td>1.8299</td>\n",
       "      <td>0.8659</td>\n",
       "      <td>3.8962</td>\n",
       "      <td>NaN</td>\n",
       "      <td>2.0342</td>\n",
       "      <td>2.1895</td>\n",
       "    </tr>\n",
       "    <tr>\n",
       "      <th>nhmm-train</th>\n",
       "      <td>3.3428</td>\n",
       "      <td>2.8506</td>\n",
       "      <td>NaN</td>\n",
       "      <td>NaN</td>\n",
       "      <td>3.6922</td>\n",
       "      <td>3.7635</td>\n",
       "    </tr>\n",
       "    <tr>\n",
       "      <th>nhmm-stock</th>\n",
       "      <td>0.2446</td>\n",
       "      <td>0.0517</td>\n",
       "      <td>NaN</td>\n",
       "      <td>NaN</td>\n",
       "      <td>0.0344</td>\n",
       "      <td>0.0358</td>\n",
       "    </tr>\n",
       "    <tr>\n",
       "      <th>arm</th>\n",
       "      <td>0.0103</td>\n",
       "      <td>NaN</td>\n",
       "      <td>0.0090</td>\n",
       "      <td>NaN</td>\n",
       "      <td>0.0002</td>\n",
       "      <td>0.0022</td>\n",
       "    </tr>\n",
       "    <tr>\n",
       "      <th>tcm</th>\n",
       "      <td>0.0139</td>\n",
       "      <td>NaN</td>\n",
       "      <td>NaN</td>\n",
       "      <td>NaN</td>\n",
       "      <td>NaN</td>\n",
       "      <td>0.0005</td>\n",
       "    </tr>\n",
       "  </tbody>\n",
       "</table>\n",
       "</div>"
      ],
      "text/plain": [
       "               seq   plate  vmarkov  discHMM  manual    ours\n",
       "hmm-ord1       NaN  0.7000   1.2663   0.2464  0.6681  1.3834\n",
       "hmm-ord2    1.8299  0.8659   3.8962      NaN  2.0342  2.1895\n",
       "nhmm-train  3.3428  2.8506      NaN      NaN  3.6922  3.7635\n",
       "nhmm-stock  0.2446  0.0517      NaN      NaN  0.0344  0.0358\n",
       "arm         0.0103     NaN   0.0090      NaN  0.0002  0.0022\n",
       "tcm         0.0139     NaN      NaN      NaN     NaN  0.0005"
      ]
     },
     "metadata": {},
     "output_type": "display_data"
    },
    {
     "data": {
      "text/html": [
       "<div>\n",
       "<style scoped>\n",
       "    .dataframe tbody tr th:only-of-type {\n",
       "        vertical-align: middle;\n",
       "    }\n",
       "\n",
       "    .dataframe tbody tr th {\n",
       "        vertical-align: top;\n",
       "    }\n",
       "\n",
       "    .dataframe thead th {\n",
       "        text-align: right;\n",
       "    }\n",
       "</style>\n",
       "<table border=\"1\" class=\"dataframe\">\n",
       "  <thead>\n",
       "    <tr style=\"text-align: right;\">\n",
       "      <th></th>\n",
       "      <th>seq</th>\n",
       "      <th>plate</th>\n",
       "      <th>vmarkov</th>\n",
       "      <th>discHMM</th>\n",
       "      <th>manual</th>\n",
       "      <th>ours</th>\n",
       "    </tr>\n",
       "  </thead>\n",
       "  <tbody>\n",
       "    <tr>\n",
       "      <th>hmm-ord1</th>\n",
       "      <td>NaN</td>\n",
       "      <td>0.5060</td>\n",
       "      <td>0.9153</td>\n",
       "      <td>0.1781</td>\n",
       "      <td>0.4830</td>\n",
       "      <td>1.0</td>\n",
       "    </tr>\n",
       "    <tr>\n",
       "      <th>hmm-ord2</th>\n",
       "      <td>0.8358</td>\n",
       "      <td>0.3955</td>\n",
       "      <td>1.7795</td>\n",
       "      <td>NaN</td>\n",
       "      <td>0.9291</td>\n",
       "      <td>1.0</td>\n",
       "    </tr>\n",
       "    <tr>\n",
       "      <th>nhmm-train</th>\n",
       "      <td>0.8882</td>\n",
       "      <td>0.7574</td>\n",
       "      <td>NaN</td>\n",
       "      <td>NaN</td>\n",
       "      <td>0.9811</td>\n",
       "      <td>1.0</td>\n",
       "    </tr>\n",
       "    <tr>\n",
       "      <th>nhmm-stock</th>\n",
       "      <td>6.8400</td>\n",
       "      <td>1.4457</td>\n",
       "      <td>NaN</td>\n",
       "      <td>NaN</td>\n",
       "      <td>0.9607</td>\n",
       "      <td>1.0</td>\n",
       "    </tr>\n",
       "    <tr>\n",
       "      <th>arm</th>\n",
       "      <td>4.7768</td>\n",
       "      <td>NaN</td>\n",
       "      <td>4.1773</td>\n",
       "      <td>NaN</td>\n",
       "      <td>0.0775</td>\n",
       "      <td>1.0</td>\n",
       "    </tr>\n",
       "    <tr>\n",
       "      <th>tcm</th>\n",
       "      <td>29.5086</td>\n",
       "      <td>NaN</td>\n",
       "      <td>NaN</td>\n",
       "      <td>NaN</td>\n",
       "      <td>NaN</td>\n",
       "      <td>1.0</td>\n",
       "    </tr>\n",
       "  </tbody>\n",
       "</table>\n",
       "</div>"
      ],
      "text/plain": [
       "                seq   plate  vmarkov  discHMM  manual  ours\n",
       "hmm-ord1        NaN  0.5060   0.9153   0.1781  0.4830   1.0\n",
       "hmm-ord2     0.8358  0.3955   1.7795      NaN  0.9291   1.0\n",
       "nhmm-train   0.8882  0.7574      NaN      NaN  0.9811   1.0\n",
       "nhmm-stock   6.8400  1.4457      NaN      NaN  0.9607   1.0\n",
       "arm          4.7768     NaN   4.1773      NaN  0.0775   1.0\n",
       "tcm         29.5086     NaN      NaN      NaN     NaN   1.0"
      ]
     },
     "metadata": {},
     "output_type": "display_data"
    },
    {
     "data": {
      "text/html": [
       "<div>\n",
       "<style scoped>\n",
       "    .dataframe tbody tr th:only-of-type {\n",
       "        vertical-align: middle;\n",
       "    }\n",
       "\n",
       "    .dataframe tbody tr th {\n",
       "        vertical-align: top;\n",
       "    }\n",
       "\n",
       "    .dataframe thead th {\n",
       "        text-align: right;\n",
       "    }\n",
       "</style>\n",
       "<table border=\"1\" class=\"dataframe\">\n",
       "  <thead>\n",
       "    <tr style=\"text-align: right;\">\n",
       "      <th></th>\n",
       "      <th>seq</th>\n",
       "      <th>plate</th>\n",
       "      <th>vmarkov</th>\n",
       "      <th>discHMM</th>\n",
       "      <th>manual</th>\n",
       "      <th>ours</th>\n",
       "    </tr>\n",
       "  </thead>\n",
       "  <tbody>\n",
       "    <tr>\n",
       "      <th>hmm-ord1</th>\n",
       "      <td>NaN</td>\n",
       "      <td>0.0</td>\n",
       "      <td>0.0000</td>\n",
       "      <td>0.0</td>\n",
       "      <td>0.0</td>\n",
       "      <td>0.000</td>\n",
       "    </tr>\n",
       "    <tr>\n",
       "      <th>hmm-ord2</th>\n",
       "      <td>0.0</td>\n",
       "      <td>0.0</td>\n",
       "      <td>0.0000</td>\n",
       "      <td>NaN</td>\n",
       "      <td>0.0</td>\n",
       "      <td>0.000</td>\n",
       "    </tr>\n",
       "    <tr>\n",
       "      <th>nhmm-train</th>\n",
       "      <td>0.0</td>\n",
       "      <td>0.0</td>\n",
       "      <td>NaN</td>\n",
       "      <td>NaN</td>\n",
       "      <td>0.0</td>\n",
       "      <td>0.000</td>\n",
       "    </tr>\n",
       "    <tr>\n",
       "      <th>nhmm-stock</th>\n",
       "      <td>0.0</td>\n",
       "      <td>0.0</td>\n",
       "      <td>NaN</td>\n",
       "      <td>NaN</td>\n",
       "      <td>0.0</td>\n",
       "      <td>0.000</td>\n",
       "    </tr>\n",
       "    <tr>\n",
       "      <th>arm</th>\n",
       "      <td>0.0</td>\n",
       "      <td>NaN</td>\n",
       "      <td>0.0001</td>\n",
       "      <td>NaN</td>\n",
       "      <td>0.0</td>\n",
       "      <td>0.001</td>\n",
       "    </tr>\n",
       "    <tr>\n",
       "      <th>tcm</th>\n",
       "      <td>0.0</td>\n",
       "      <td>NaN</td>\n",
       "      <td>NaN</td>\n",
       "      <td>NaN</td>\n",
       "      <td>NaN</td>\n",
       "      <td>0.000</td>\n",
       "    </tr>\n",
       "  </tbody>\n",
       "</table>\n",
       "</div>"
      ],
      "text/plain": [
       "            seq  plate  vmarkov  discHMM  manual   ours\n",
       "hmm-ord1    NaN    0.0   0.0000      0.0     0.0  0.000\n",
       "hmm-ord2    0.0    0.0   0.0000      NaN     0.0  0.000\n",
       "nhmm-train  0.0    0.0      NaN      NaN     0.0  0.000\n",
       "nhmm-stock  0.0    0.0      NaN      NaN     0.0  0.000\n",
       "arm         0.0    NaN   0.0001      NaN     0.0  0.001\n",
       "tcm         0.0    NaN      NaN      NaN     NaN  0.000"
      ]
     },
     "metadata": {},
     "output_type": "display_data"
    },
    {
     "data": {
      "text/html": [
       "<div>\n",
       "<style scoped>\n",
       "    .dataframe tbody tr th:only-of-type {\n",
       "        vertical-align: middle;\n",
       "    }\n",
       "\n",
       "    .dataframe tbody tr th {\n",
       "        vertical-align: top;\n",
       "    }\n",
       "\n",
       "    .dataframe thead th {\n",
       "        text-align: right;\n",
       "    }\n",
       "</style>\n",
       "<table border=\"1\" class=\"dataframe\">\n",
       "  <thead>\n",
       "    <tr style=\"text-align: right;\">\n",
       "      <th></th>\n",
       "      <th>seq</th>\n",
       "      <th>plate</th>\n",
       "      <th>vmarkov</th>\n",
       "      <th>discHMM</th>\n",
       "      <th>manual</th>\n",
       "      <th>ours</th>\n",
       "    </tr>\n",
       "  </thead>\n",
       "  <tbody>\n",
       "    <tr>\n",
       "      <th>hmm-ord1</th>\n",
       "      <td>NaN</td>\n",
       "      <td>197.6221</td>\n",
       "      <td>109.2499</td>\n",
       "      <td>561.5698</td>\n",
       "      <td>207.0558</td>\n",
       "      <td>100.0</td>\n",
       "    </tr>\n",
       "    <tr>\n",
       "      <th>hmm-ord2</th>\n",
       "      <td>119.6522</td>\n",
       "      <td>252.8524</td>\n",
       "      <td>56.1951</td>\n",
       "      <td>NaN</td>\n",
       "      <td>107.6342</td>\n",
       "      <td>100.0</td>\n",
       "    </tr>\n",
       "    <tr>\n",
       "      <th>nhmm-train</th>\n",
       "      <td>112.5827</td>\n",
       "      <td>132.0229</td>\n",
       "      <td>NaN</td>\n",
       "      <td>NaN</td>\n",
       "      <td>101.9294</td>\n",
       "      <td>100.0</td>\n",
       "    </tr>\n",
       "    <tr>\n",
       "      <th>nhmm-stock</th>\n",
       "      <td>14.6198</td>\n",
       "      <td>69.1721</td>\n",
       "      <td>NaN</td>\n",
       "      <td>NaN</td>\n",
       "      <td>104.0959</td>\n",
       "      <td>100.0</td>\n",
       "    </tr>\n",
       "    <tr>\n",
       "      <th>arm</th>\n",
       "      <td>20.9345</td>\n",
       "      <td>NaN</td>\n",
       "      <td>23.9387</td>\n",
       "      <td>NaN</td>\n",
       "      <td>1290.3648</td>\n",
       "      <td>100.0</td>\n",
       "    </tr>\n",
       "    <tr>\n",
       "      <th>tcm</th>\n",
       "      <td>3.3888</td>\n",
       "      <td>NaN</td>\n",
       "      <td>NaN</td>\n",
       "      <td>NaN</td>\n",
       "      <td>NaN</td>\n",
       "      <td>100.0</td>\n",
       "    </tr>\n",
       "  </tbody>\n",
       "</table>\n",
       "</div>"
      ],
      "text/plain": [
       "                 seq     plate   vmarkov   discHMM     manual   ours\n",
       "hmm-ord1         NaN  197.6221  109.2499  561.5698   207.0558  100.0\n",
       "hmm-ord2    119.6522  252.8524   56.1951       NaN   107.6342  100.0\n",
       "nhmm-train  112.5827  132.0229       NaN       NaN   101.9294  100.0\n",
       "nhmm-stock   14.6198   69.1721       NaN       NaN   104.0959  100.0\n",
       "arm          20.9345       NaN   23.9387       NaN  1290.3648  100.0\n",
       "tcm           3.3888       NaN       NaN       NaN        NaN  100.0"
      ]
     },
     "metadata": {},
     "output_type": "display_data"
    },
    {
     "name": "stdout",
     "output_type": "stream",
     "text": [
      "\\begin{tabular}{lrrrrrr}\n",
      "\\toprule\n",
      " & seq & plate & vmarkov & discHMM & manual & ours \\\\\n",
      "\\midrule\n",
      "\\textbf{hmm-ord1} & - & 0.7000 & 1.2663 & 0.2464 & 0.6681 & 1.3834 \\\\\n",
      "\\textbf{hmm-ord2} & 1.8299 & 0.8659 & 3.8962 & - & 2.0342 & 2.1895 \\\\\n",
      "\\textbf{nhmm-train} & 3.3428 & 2.8506 & - & - & 3.6922 & 3.7635 \\\\\n",
      "\\textbf{nhmm-stock} & 0.2446 & 0.0517 & - & - & 0.0344 & 0.0358 \\\\\n",
      "\\textbf{arm} & 0.0103 & - & 0.0090 & - & 0.0002 & 0.0022 \\\\\n",
      "\\textbf{tcm} & 0.0139 & - & - & - & - & 0.0005 \\\\\n",
      "\\bottomrule\n",
      "\\end{tabular}\n",
      "\n",
      "\\begin{tabular}{lrrrrrr}\n",
      "\\toprule\n",
      " & seq & plate & vmarkov & discHMM & manual & ours \\\\\n",
      "\\midrule\n",
      "\\textbf{hmm-ord1} & - & 0.5060 & 0.9153 & 0.1781 & 0.4830 & 1.0000 \\\\\n",
      "\\textbf{hmm-ord2} & 0.8358 & 0.3955 & 1.7795 & - & 0.9291 & 1.0000 \\\\\n",
      "\\textbf{nhmm-train} & 0.8882 & 0.7574 & - & - & 0.9811 & 1.0000 \\\\\n",
      "\\textbf{nhmm-stock} & 6.8400 & 1.4457 & - & - & 0.9607 & 1.0000 \\\\\n",
      "\\textbf{arm} & 4.7768 & - & 4.1773 & - & 0.0775 & 1.0000 \\\\\n",
      "\\textbf{tcm} & 29.5086 & - & - & - & - & 1.0000 \\\\\n",
      "\\bottomrule\n",
      "\\end{tabular}\n",
      "\n",
      "\\begin{tabular}{lrrrrrr}\n",
      "\\toprule\n",
      " & seq & plate & vmarkov & discHMM & manual & ours \\\\\n",
      "\\midrule\n",
      "\\textbf{hmm-ord1} & - & 0.0000 & 0.0000 & 0.0000 & 0.0000 & 0.0000 \\\\\n",
      "\\textbf{hmm-ord2} & 0.0000 & 0.0000 & 0.0000 & - & 0.0000 & 0.0000 \\\\\n",
      "\\textbf{nhmm-train} & 0.0000 & 0.0000 & - & - & 0.0000 & 0.0000 \\\\\n",
      "\\textbf{nhmm-stock} & 0.0000 & 0.0000 & - & - & 0.0000 & 0.0000 \\\\\n",
      "\\textbf{arm} & 0.0000 & - & 0.0001 & - & 0.0000 & 0.0010 \\\\\n",
      "\\textbf{tcm} & 0.0000 & - & - & - & - & 0.0000 \\\\\n",
      "\\bottomrule\n",
      "\\end{tabular}\n",
      "\n",
      "\\begin{tabular}{lrrrrrr}\n",
      "\\toprule\n",
      " & seq & plate & vmarkov & discHMM & manual & ours \\\\\n",
      "\\midrule\n",
      "\\textbf{hmm-ord1} & - & 197.6221 & 109.2499 & 561.5698 & 207.0558 & 100.0000 \\\\\n",
      "\\textbf{hmm-ord2} & 119.6522 & 252.8524 & 56.1951 & - & 107.6342 & 100.0000 \\\\\n",
      "\\textbf{nhmm-train} & 112.5827 & 132.0229 & - & - & 101.9294 & 100.0000 \\\\\n",
      "\\textbf{nhmm-stock} & 14.6198 & 69.1721 & - & - & 104.0959 & 100.0000 \\\\\n",
      "\\textbf{arm} & 20.9345 & - & 23.9387 & - & 1290.3648 & 100.0000 \\\\\n",
      "\\textbf{tcm} & 3.3888 & - & - & - & - & 100.0000 \\\\\n",
      "\\bottomrule\n",
      "\\end{tabular}\n",
      "\n"
     ]
    }
   ],
   "source": [
    "display(total_memory_mean.round(4))\n",
    "display(total_memory_ratio.round(4))\n",
    "display(total_memory_std.round(4))\n",
    "display((100/total_memory_ratio).round(4))\n",
    "\n",
    "print(total_memory_mean.to_latex(formatters=[lambda x: f\"{x:.4f}\"]*len(total_memory_mean.columns), na_rep=\"-\", bold_rows=True))\n",
    "print(total_memory_ratio.to_latex(formatters=[lambda x: f\"{x:.4f}\"]*len(total_memory_ratio.columns), na_rep=\"-\", bold_rows=True))\n",
    "print(total_memory_std.to_latex(formatters=[lambda x: f\"{x:.4f}\"]*len(total_memory_std.columns), na_rep=\"-\", bold_rows=True))\n",
    "print((100/total_memory_ratio).to_latex(formatters=[lambda x: f\"{x:.4f}\"]*len(total_memory_ratio.columns), na_rep=\"-\", bold_rows=True))"
   ]
  }
 ],
 "metadata": {
  "kernelspec": {
   "display_name": "ppl",
   "language": "python",
   "name": "python3"
  },
  "language_info": {
   "codemirror_mode": {
    "name": "ipython",
    "version": 3
   },
   "file_extension": ".py",
   "mimetype": "text/x-python",
   "name": "python",
   "nbconvert_exporter": "python",
   "pygments_lexer": "ipython3",
   "version": "3.8.20"
  }
 },
 "nbformat": 4,
 "nbformat_minor": 5
}
