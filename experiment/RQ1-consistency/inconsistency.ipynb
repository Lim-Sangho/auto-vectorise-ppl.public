{
 "cells": [
  {
   "cell_type": "code",
   "execution_count": 6,
   "id": "4c650f44",
   "metadata": {},
   "outputs": [
    {
     "name": "stdout",
     "output_type": "stream",
     "text": [
      "tensor(0.)\n"
     ]
    }
   ],
   "source": [
    "import torch\n",
    "\n",
    "x = torch.randn(100, 100, 100).transpose(0, 1)\n",
    "x_clone = x.clone()\n",
    "x = x.contiguous()\n",
    "\n",
    "print(x.sum() - x_clone.sum())"
   ]
  }
 ],
 "metadata": {
  "kernelspec": {
   "display_name": "ppl",
   "language": "python",
   "name": "python3"
  },
  "language_info": {
   "codemirror_mode": {
    "name": "ipython",
    "version": 3
   },
   "file_extension": ".py",
   "mimetype": "text/x-python",
   "name": "python",
   "nbconvert_exporter": "python",
   "pygments_lexer": "ipython3",
   "version": "3.8.20"
  }
 },
 "nbformat": 4,
 "nbformat_minor": 5
}
