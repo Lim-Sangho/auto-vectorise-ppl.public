{
 "cells": [
  {
   "cell_type": "code",
   "execution_count": null,
   "id": "abd93f29",
   "metadata": {},
   "outputs": [],
   "source": [
    "# %run main.py --benchmark hmm-ord1 --method plate --num_seed 100 --num_batch 10 --lr 1e-2 --cuda 0\n",
    "# %run main.py --benchmark hmm-ord1 --method vmarkov --num_seed 100 --num_batch 10 --lr 1e-2 --cuda 0\n",
    "# %run main.py --benchmark hmm-ord1 --method discHMM --num_seed 100 --num_batch 10 --lr 1e-2 --cuda 0\n",
    "# %run main.py --benchmark hmm-ord1 --method ours --num_seed 100 --num_batch 10 --lr e-2 --cuda 0\n",
    "%run main.py --benchmark hmm-ord1 --method all --num_seed 100 --num_batch 10 --lr 1e-2 --cuda 0"
   ]
  },
  {
   "cell_type": "code",
   "execution_count": null,
   "id": "526bbf10",
   "metadata": {},
   "outputs": [],
   "source": [
    "# %run main.py --benchmark hmm-neural --method plate --num_seed 100 --num_batch 10 --lr 1e-1 --cuda 1\n",
    "# %run main.py --benchmark hmm-neural --method vmarkov --num_seed 100 --num_batch 10 --lr 1e-1 --cuda 1\n",
    "# %run main.py --benchmark hmm-neural --method discHMM --num_seed 100 --num_batch 10 --lr 1e-1 --cuda 1\n",
    "# %run main.py --benchmark hmm-neural --method ours --num_seed 100 --num_batch 10 --lr 1e-1 --cuda 1\n",
    "%run main.py --benchmark hmm-neural --method all --num_seed 100 --num_batch 10 --lr 1e-1 --cuda 1"
   ]
  },
  {
   "cell_type": "code",
   "execution_count": null,
   "id": "9809cecf",
   "metadata": {},
   "outputs": [],
   "source": [
    "# %run main.py --benchmark hmm-ord2 --method plate --num_seed 100 --num_batch 10 --lr 1e-4 --cuda 2\n",
    "# %run main.py --benchmark hmm-ord2 --method vmarkov --num_seed 100 --num_batch 10 --lr 1e-4 --cuda 2\n",
    "# %run main.py --benchmark hmm-ord2 --method ours --num_seed 100 --num_batch 10 --lr 1e-4 --cuda 2\n",
    "%run main.py --benchmark hmm-ord2 --method all --num_seed 100 --num_batch 10 --lr 1e-4 --cuda 2"
   ]
  },
  {
   "cell_type": "code",
   "execution_count": null,
   "id": "d6a6f8a6",
   "metadata": {},
   "outputs": [],
   "source": [
    "# %run main.py --benchmark dmm --method plate --num_seed 100 --num_batch 10 --lr 1e-4 --cuda 3\n",
    "# %run main.py --benchmark dmm --method vmarkov --num_seed 100 --num_batch 10 --lr 1e-4 --cuda 3\n",
    "# %run main.py --benchmark dmm --method ours --num_seed 100 --num_batch 10 --lr 1e-4 --cuda 3\n",
    "%run main.py --benchmark dmm --method all --num_seed 100 --num_batch 10 --lr 1e-4 --cuda 3"
   ]
  },
  {
   "cell_type": "code",
   "execution_count": null,
   "id": "5f9599d5",
   "metadata": {},
   "outputs": [],
   "source": [
    "# %run main.py --benchmark arm --method vmarkov --num_seed 100 --lr 1e-2 --cuda 0\n",
    "# %run main.py --benchmark arm --method ours --num_seed 100 --lr 1e-2 --cuda 0\n",
    "%run main.py --benchmark arm --method all --num_seed 100 --lr 1e-2 --cuda 0"
   ]
  },
  {
   "cell_type": "code",
   "execution_count": null,
   "id": "ba6180e3",
   "metadata": {},
   "outputs": [],
   "source": [
    "# %run main.py --benchmark tcm --method ours --num_seed 100 --lr 1e-2 --cuda 1\n",
    "%run main.py --benchmark tcm --method all --num_seed 100 --lr 1e-2 --cuda 1"
   ]
  },
  {
   "cell_type": "code",
   "execution_count": null,
   "id": "d8a71467",
   "metadata": {},
   "outputs": [],
   "source": [
    "# %run main.py --benchmark nhmm-stock --method plate --num_seed 100 --lr 1e-2 --cuda 2\n",
    "# %run main.py --benchmark nhmm-stock --method ours --num_seed 100 --lr 1e-2 --cuda 2\n",
    "%run main.py --benchmark nhmm-stock --method all --num_seed 100 --lr 1e-2 --cuda 2"
   ]
  },
  {
   "cell_type": "code",
   "execution_count": null,
   "id": "8400f385",
   "metadata": {},
   "outputs": [],
   "source": [
    "# %run main.py --benchmark nhmm-train --method plate --num_seed 100 --lr 1e-1 --cuda 3\n",
    "# %run main.py --benchmark nhmm-train --method ours --num_seed 100 --lr 1e-1 --cuda 3\n",
    "%run main.py --benchmark nhmm-train --method all --num_seed 100 --lr 1e-1 --cuda 3"
   ]
  }
 ],
 "metadata": {
  "kernelspec": {
   "display_name": "ppl",
   "language": "python",
   "name": "python3"
  },
  "language_info": {
   "codemirror_mode": {
    "name": "ipython",
    "version": 3
   },
   "file_extension": ".py",
   "mimetype": "text/x-python",
   "name": "python",
   "nbconvert_exporter": "python",
   "pygments_lexer": "ipython3",
   "version": "3.8.20"
  }
 },
 "nbformat": 4,
 "nbformat_minor": 5
}
