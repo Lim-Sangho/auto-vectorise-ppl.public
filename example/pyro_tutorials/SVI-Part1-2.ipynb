{
 "cells": [
  {
   "cell_type": "code",
   "execution_count": null,
   "metadata": {},
   "outputs": [],
   "source": [
    "import sys\n",
    "import math\n",
    "import torch\n",
    "\n",
    "sys.dont_write_bytecode = True\n",
    "\n",
    "import pyro\n",
    "import pyro.primitives\n",
    "import pyro.distributions as dist\n",
    "import pyro.distributions.constraints as constraints\n",
    "\n",
    "from pyro.infer import SVI, Trace_ELBO\n",
    "from pyro.optim import Adam\n",
    "from tqdm.auto import tqdm\n",
    "\n",
    "import sys\n",
    "sys.path.append(\"../\")\n",
    "sys.path.append(\"../../\")\n",
    "\n",
    "import warnings\n",
    "pyro.primitives.enable_validation(False)\n",
    "warnings.filterwarnings('ignore')\n",
    "pyro.set_rng_seed(20)\n",
    "\n",
    "from vectorized_loop.ops import Index\n",
    "import vectorized_loop as vec\n",
    "device = \"cuda\" if torch.cuda.is_available() else \"cpu\"\n",
    "torch.set_default_device(device)"
   ]
  },
  {
   "cell_type": "code",
   "execution_count": 2,
   "metadata": {},
   "outputs": [
    {
     "name": "stdout",
     "output_type": "stream",
     "text": [
      "Running Baseline_1\n"
     ]
    },
    {
     "data": {
      "application/vnd.jupyter.widget-view+json": {
       "model_id": "6e1478352f134d568304b75c6a3fd443",
       "version_major": 2,
       "version_minor": 0
      },
      "text/plain": [
       "  0%|          | 0/50 [00:00<?, ?it/s]"
      ]
     },
     "metadata": {},
     "output_type": "display_data"
    },
    {
     "name": "stdout",
     "output_type": "stream",
     "text": [
      ".\n",
      "Based on the data and our prior belief, the fairness of the coin is 0.488 +- 0.090\n",
      "Running Baseline_2\n"
     ]
    },
    {
     "data": {
      "application/vnd.jupyter.widget-view+json": {
       "model_id": "21384cd7b6394751a95b80e3bc026023",
       "version_major": 2,
       "version_minor": 0
      },
      "text/plain": [
       "  0%|          | 0/50 [00:00<?, ?it/s]"
      ]
     },
     "metadata": {},
     "output_type": "display_data"
    },
    {
     "name": "stdout",
     "output_type": "stream",
     "text": [
      ".\n",
      "Based on the data and our prior belief, the fairness of the coin is 0.488 +- 0.090\n",
      "Running Ours\n"
     ]
    },
    {
     "data": {
      "application/vnd.jupyter.widget-view+json": {
       "model_id": "d0fedce5370c434988d02226d378359e",
       "version_major": 2,
       "version_minor": 0
      },
      "text/plain": [
       "  0%|          | 0/50 [00:00<?, ?it/s]"
      ]
     },
     "metadata": {},
     "output_type": "display_data"
    },
    {
     "name": "stdout",
     "output_type": "stream",
     "text": [
      ".\n",
      "Based on the data and our prior belief, the fairness of the coin is 0.488 +- 0.090\n"
     ]
    }
   ],
   "source": [
    "def model_baseline_1(data):\n",
    "    alpha0 = torch.tensor(10.0)\n",
    "    beta0 = torch.tensor(10.0)\n",
    "    f = pyro.sample(\"latent_fairness\", dist.Beta(alpha0, beta0))\n",
    "    for i in range(len(data)):\n",
    "        pyro.sample(\"obs_{}\".format(i), dist.Bernoulli(f), obs=data[i])\n",
    "\n",
    "def model_baseline_2(data):\n",
    "    alpha0 = torch.tensor(10.0)\n",
    "    beta0 = torch.tensor(10.0)\n",
    "    f = pyro.sample(\"latent_fairness\", dist.Beta(alpha0, beta0))\n",
    "    with pyro.plate(\"data\", len(data)):\n",
    "        pyro.sample(\"obs\", dist.Bernoulli(f), obs=data)\n",
    "\n",
    "@vec.vectorize\n",
    "def model_ours(s: vec.State, data):\n",
    "    alpha0 = torch.tensor(10.0)\n",
    "    beta0 = torch.tensor(10.0)\n",
    "    s.f = pyro.sample(\"latent_fairness\", dist.Beta(alpha0, beta0))\n",
    "    for s.i in vec.range(\"data\", len(data), vectorized=True, device=device):\n",
    "        pyro.sample(\"obs\", dist.Bernoulli(s.f), obs=Index(data)[s.i])\n",
    "\n",
    "def guide(data):\n",
    "    alpha_q = pyro.param(\"alpha_q\", torch.tensor(15.0),\n",
    "                         constraint=constraints.positive)\n",
    "    beta_q = pyro.param(\"beta_q\", torch.tensor(15.0),\n",
    "                        constraint=constraints.positive)\n",
    "    pyro.sample(\"latent_fairness\", dist.Beta(alpha_q, beta_q))\n",
    "\n",
    "def run(model, elbo):\n",
    "    pyro.clear_param_store()\n",
    "    vec.clear_allocators()\n",
    "\n",
    "    n_step = 50\n",
    "    data = torch.cat([torch.ones(100), torch.zeros(400)])\n",
    "    \n",
    "    adam_params = {\"lr\": 0.0005, \"betas\": (0.90, 0.999)}\n",
    "    optimizer = Adam(adam_params)\n",
    "    svi = SVI(model, guide, optimizer, elbo)\n",
    "\n",
    "    for step in tqdm(range(n_step)):\n",
    "        svi.step(data)\n",
    "        if step % 100 == 0:\n",
    "            print('.', end='')\n",
    "\n",
    "    alpha_q = pyro.param(\"alpha_q\").item()\n",
    "    beta_q = pyro.param(\"beta_q\").item()\n",
    "\n",
    "    inferred_mean = alpha_q / (alpha_q + beta_q)\n",
    "    factor = beta_q / (alpha_q * (1.0 + alpha_q + beta_q))\n",
    "    inferred_std = inferred_mean * math.sqrt(factor)\n",
    "\n",
    "    print(\"\\nBased on the data and our prior belief, the fairness \" +\n",
    "          \"of the coin is %.3f +- %.3f\" % (inferred_mean, inferred_std))\n",
    "\n",
    "print(\"Running Baseline_1\")\n",
    "run(model_baseline_1, Trace_ELBO())\n",
    "\n",
    "print(\"Running Baseline_2\")\n",
    "run(model_baseline_2, Trace_ELBO())\n",
    "\n",
    "print(\"Running Ours\")\n",
    "run(model_ours, vec.Trace_ELBO())"
   ]
  }
 ],
 "metadata": {
  "kernelspec": {
   "display_name": "ppl",
   "language": "python",
   "name": "python3"
  },
  "language_info": {
   "codemirror_mode": {
    "name": "ipython",
    "version": 3
   },
   "file_extension": ".py",
   "mimetype": "text/x-python",
   "name": "python",
   "nbconvert_exporter": "python",
   "pygments_lexer": "ipython3",
   "version": "3.8.20"
  }
 },
 "nbformat": 4,
 "nbformat_minor": 2
}
