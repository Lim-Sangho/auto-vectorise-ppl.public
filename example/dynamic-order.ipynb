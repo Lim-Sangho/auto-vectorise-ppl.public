{
 "cells": [
  {
   "cell_type": "code",
   "execution_count": null,
   "metadata": {},
   "outputs": [],
   "source": [
    "import sys\n",
    "sys.path.append(\"../\")\n",
    "sys.path.append(\"../../\")\n",
    "\n",
    "sys.dont_write_bytecode = True\n",
    "\n",
    "import vectorized_loop as vec\n",
    "\n",
    "import argparse\n",
    "import time\n",
    "\n",
    "import numpy as np\n",
    "import torch\n",
    "import torch.nn as nn\n",
    "\n",
    "import pyro\n",
    "import pyro.infer\n",
    "import pyro.distributions as dist"
   ]
  },
  {
   "cell_type": "markdown",
   "metadata": {},
   "source": [
    "The Parametric Model where its order differed by its parameters.\n",
    "-----------------\n",
    "\n",
    "One of main functionality of our method is to find an order of a model automatically, but someone may criticise that the order can be determined intuitively according to the structure of the model.\n",
    "\n",
    "In this notebook, we will introduce the model of which we can modify the order of the model without changing structures.\n",
    "\n",
    "The model is mathemetically same with an auto-regressive model, but keeps track of previous values weighted in a peculiar way.\n",
    "\n",
    "given coefficients : $c_0, c_1, ... , c_m$\n",
    "\n",
    "$x_0 = 1$\n",
    "\n",
    "$h_0 = \\text{zero\\_vector}(m+1)$\n",
    "\n",
    "$x_{n+1} \\sim Dist(\\text{sum}(h_n))$\n",
    "\n",
    "$h_{n+1} = c \\odot (x :: h_n[:-1])$\n",
    "\n",
    "where $\\odot$ is an element-wise product, and $::$ is a concatenation.\n",
    "\n",
    "We can think coefficients $c_i$ as forgetting factors. As time goes by, the $i$ th previous value becomes smaller by a factor of $c_i$."
   ]
  },
  {
   "cell_type": "code",
   "execution_count": null,
   "metadata": {},
   "outputs": [],
   "source": [
    "@vec.vectorize\n",
    "def model(s: vec.State, length:int, coeffs:torch.Tensor, vectorized = False):\n",
    "    s.x = 1\n",
    "    s.h = torch.zeros(len(coeffs))\n",
    "    for i in vec.range(\"loop\", length, vectorized = vectorized):\n",
    "        s.x = pyro.sample(\"x\", dist.Beta(1+s.h.sum(-1), 1+s.h.sum(-1)))\n",
    "        s.h = coeffs*torch.cat((s.x[..., None], s.h[...,:-1]), dim = -1)"
   ]
  },
  {
   "cell_type": "markdown",
   "metadata": {},
   "source": [
    "Thinking roughly, we can determine $m+1$ as an order of this model, since the model keeps track of $m+1$ previous values.\n",
    "\n",
    "However, the order of the model can be much smaller than $m+1$ depending on the coefficients."
   ]
  },
  {
   "cell_type": "code",
   "execution_count": null,
   "metadata": {},
   "outputs": [
    {
     "name": "stderr",
     "output_type": "stream",
     "text": [
      "DEBUG:root:coeffs1\n",
      "DEBUG:vectorized_loop.markov_messenger:loop (vectorized): repeat 11\n",
      "DEBUG:root:coeffs2\n",
      "DEBUG:vectorized_loop.markov_messenger:loop (vectorized): repeat 4\n"
     ]
    }
   ],
   "source": [
    "import logging\n",
    "logging.basicConfig(level=logging.DEBUG)\n",
    "\n",
    "length = 30\n",
    "coeffs1 = torch.tensor([1,1,1,1,1,1,1,1,1,1])\n",
    "coeffs2 = torch.tensor([1,1,1,0,1,1,1,1,1,1])\n",
    "\n",
    "logging.debug(\"coeffs1\")\n",
    "tr = vec.trace(model).get_trace(length, coeffs1)\n",
    "tr2 = vec.trace(vec.replay(model, trace = tr)).get_trace(length, coeffs1, True)\n",
    "\n",
    "logging.debug(\"coeffs2\")\n",
    "tr = vec.trace(model).get_trace(length, coeffs1)\n",
    "tr2 = vec.trace(vec.replay(model, trace = tr)).get_trace(length, coeffs2, True)\n",
    "\n"
   ]
  },
  {
   "cell_type": "markdown",
   "metadata": {},
   "source": [
    "The model with second coefficients has an order 3, because the forgetting factor 0 at 4th position makes every $4\\leq$ th previous values zero.\n",
    "\n",
    "I didn't make a proof, but the order of this model will be the smallest $n$ where $\\prod_{i=0}^n c_i = 0$, which is not simple to be hard-coded. "
   ]
  }
 ],
 "metadata": {
  "kernelspec": {
   "display_name": "ppl",
   "language": "python",
   "name": "python3"
  },
  "language_info": {
   "codemirror_mode": {
    "name": "ipython",
    "version": 3
   },
   "file_extension": ".py",
   "mimetype": "text/x-python",
   "name": "python",
   "nbconvert_exporter": "python",
   "pygments_lexer": "ipython3",
   "version": "3.8.20"
  }
 },
 "nbformat": 4,
 "nbformat_minor": 2
}
